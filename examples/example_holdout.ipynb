{
 "cells": [
  {
   "cell_type": "code",
   "execution_count": 2,
   "metadata": {},
   "outputs": [
    {
     "name": "stdout",
     "output_type": "stream",
     "text": [
      "Confidence intervals around given accuracy for your confidence and 90%, 95%, 98%, 99%.\n",
      "([93.94558452120494, 100], [93.50670842687549, 100], [92.83478652040698, 100], [92.05642905738175, 100], [91.5284729382012, 100])\n"
     ]
    }
   ],
   "source": [
    "from sklearn import datasets, svm, metrics\n",
    "from sklearn.model_selection import train_test_split\n",
    "import sys\n",
    "import os\n",
    "\n",
    "sys.path.insert(0, os.path.abspath(os.path.join(os.path.dirname(\"__file__\"), '..')))\n",
    "from src import confidence_planner\n",
    "\n",
    "digits = datasets.load_digits()\n",
    "\n",
    "# Flatten the images\n",
    "n_samples = len(digits.images)\n",
    "data = digits.images.reshape((n_samples, -1))\n",
    "\n",
    "# Create a classifier: a support vector classifier\n",
    "clf = svm.SVC(gamma=0.001)\n",
    "\n",
    "# Split data into 70% train and 30% test subsets\n",
    "X_train, X_test, y_train, y_test = train_test_split(\n",
    "    data, digits.target, test_size=0.3, shuffle=False\n",
    ")\n",
    "\n",
    "# Learn the digits on the train subset\n",
    "clf.fit(X_train, y_train)\n",
    "\n",
    "# Predict the value of the digit on the test subset\n",
    "predicted = clf.predict(X_test)\n",
    "\n",
    "# Get the model's accuracy\n",
    "accuracy = metrics.accuracy_score(y_test, predicted)\n",
    "\n",
    "# Print confidence interval around the obtained accuracy with 85% confidence\n",
    "print(confidence_planner.wilson(len(y_test), accuracy, 0.85))"
   ]
  }
 ],
 "metadata": {
  "interpreter": {
   "hash": "892ca59aa414453db5f6853b8b58843075bc15d3089cadd97fddafdae17dc237"
  },
  "kernelspec": {
   "display_name": "Python 3 (ipykernel)",
   "language": "python",
   "name": "python3"
  },
  "language_info": {
   "codemirror_mode": {
    "name": "ipython",
    "version": 3
   },
   "file_extension": ".py",
   "mimetype": "text/x-python",
   "name": "python",
   "nbconvert_exporter": "python",
   "pygments_lexer": "ipython3",
   "version": "3.9.7"
  }
 },
 "nbformat": 4,
 "nbformat_minor": 2
}
