{
 "cells": [
  {
   "cell_type": "code",
   "execution_count": 1,
   "metadata": {
    "ExecuteTime": {
     "end_time": "2022-05-15T22:14:31.735791Z",
     "start_time": "2022-05-15T22:14:30.374699Z"
    },
    "pycharm": {
     "name": "#%%\n"
    }
   },
   "outputs": [
    {
     "name": "stdout",
     "output_type": "stream",
     "text": [
      "Holdout accuracy: 0.9532163742690059\n",
      "90% CI: [0.9188733241118382, 0.9734413189206182]\n",
      "Test samples needed for a 0.05 radius 90% CI: 271\n"
     ]
    }
   ],
   "source": [
    "from sklearn import datasets, metrics\n",
    "from sklearn.model_selection import train_test_split\n",
    "from sklearn.naive_bayes import GaussianNB\n",
    "from sklearn.ensemble import RandomForestClassifier\n",
    "from sklearn.svm import SVC\n",
    "import confidence_planner as cp\n",
    "\n",
    "# example dataset\n",
    "X, y = datasets.load_breast_cancer(return_X_y=True)\n",
    "X_train, X_test, y_train, y_test = train_test_split(\n",
    "    X, y, test_size=0.3, stratify=y, random_state=23\n",
    ")\n",
    "\n",
    "# training the classifier and calculating accuracy\n",
    "clf = SVC(gamma=0.001)\n",
    "clf.fit(X_train, y_train)\n",
    "y_pred = clf.predict(X_test)\n",
    "acc = metrics.accuracy_score(y_test, y_pred)\n",
    "\n",
    "# confidence interval and sample size estimation\n",
    "ci = cp.estimate_confidence_interval(y_test.shape[0], acc, confidence_level=0.90)\n",
    "sample = cp.estimate_sample_size(interval_radius=0.05, confidence_level=0.90)\n",
    "\n",
    "print(f\"Holdout accuracy: {acc}\")\n",
    "print(f\"90% CI: {ci}\")\n",
    "print(f\"Test samples needed for a 0.05 radius 90% CI: {sample}\")"
   ]
  },
  {
   "cell_type": "code",
   "execution_count": 2,
   "metadata": {
    "ExecuteTime": {
     "end_time": "2022-05-15T22:14:31.959452Z",
     "start_time": "2022-05-15T22:14:31.754783Z"
    },
    "pycharm": {
     "name": "#%%\n"
    }
   },
   "outputs": [],
   "source": [
    "acc_svm = acc\n",
    "\n",
    "clf_nb = GaussianNB()\n",
    "clf_nb.fit(X_train, y_train)\n",
    "y_pred_nb = clf_nb.predict(X_test)\n",
    "acc_nb = metrics.accuracy_score(y_test, y_pred_nb)\n",
    "\n",
    "clf_rf = RandomForestClassifier(random_state=23)\n",
    "clf_rf.fit(X_train, y_train)\n",
    "y_pred_rf = clf_rf.predict(X_test)\n",
    "acc_rf = metrics.accuracy_score(y_test, y_pred_rf)"
   ]
  },
  {
   "cell_type": "code",
   "execution_count": 7,
   "metadata": {
    "ExecuteTime": {
     "end_time": "2022-05-15T22:17:17.844789Z",
     "start_time": "2022-05-15T22:17:17.638504Z"
    },
    "pycharm": {
     "name": "#%%\n"
    }
   },
   "outputs": [
    {
     "data": {
      "image/png": "[encoded data removed]",
      "text/plain": [
       "<Figure size 864x288 with 1 Axes>"
      ]
     },
     "metadata": {
      "needs_background": "light"
     },
     "output_type": "display_data"
    }
   ],
   "source": [
    "fig = cp.plot_classifier_intervals(\n",
    "    [\"SVC\", \"NB\", \"RF\"], \n",
    "    [y_test.shape[0]]*3, \n",
    "    [acc_svm, acc_nb, acc_rf],\n",
    "    method=\"holdout_wilson\",\n",
    "    width=12,\n",
    "    height=4\n",
    ");"
   ]
  },
  {
   "cell_type": "code",
   "execution_count": 8,
   "metadata": {
    "ExecuteTime": {
     "end_time": "2022-05-15T22:17:21.526814Z",
     "start_time": "2022-05-15T22:17:20.972515Z"
    }
   },
   "outputs": [],
   "source": [
    "fig.savefig('error_bars.png', dpi=300, bbox_inches=\"tight\")"
   ]
  },
  {
   "cell_type": "code",
   "execution_count": null,
   "metadata": {},
   "outputs": [],
   "source": []
  }
 ],
 "metadata": {
  "hide_input": false,
  "interpreter": {
   "hash": "892ca59aa414453db5f6853b8b58843075bc15d3089cadd97fddafdae17dc237"
  },
  "kernelspec": {
   "display_name": "Python 3",
   "language": "python",
   "name": "python3"
  },
  "language_info": {
   "codemirror_mode": {
    "name": "ipython",
    "version": 3
   },
   "file_extension": ".py",
   "mimetype": "text/x-python",
   "name": "python",
   "nbconvert_exporter": "python",
   "pygments_lexer": "ipython3",
   "version": "3.7.3"
  },
  "toc": {
   "base_numbering": 1,
   "nav_menu": {},
   "number_sections": true,
   "sideBar": true,
   "skip_h1_title": false,
   "title_cell": "Table of Contents",
   "title_sidebar": "Contents",
   "toc_cell": false,
   "toc_position": {},
   "toc_section_display": true,
   "toc_window_display": true
  },
  "varInspector": {
   "cols": {
    "lenName": 16,
    "lenType": 16,
    "lenVar": 40
   },
   "kernels_config": {
    "python": {
     "delete_cmd_postfix": "",
     "delete_cmd_prefix": "del ",
     "library": "var_list.py",
     "varRefreshCmd": "print(var_dic_list())"
    },
    "r": {
     "delete_cmd_postfix": ") ",
     "delete_cmd_prefix": "rm(",
     "library": "var_list.r",
     "varRefreshCmd": "cat(var_dic_list()) "
    }
   },
   "types_to_exclude": [
    "module",
    "function",
    "builtin_function_or_method",
    "instance",
    "_Feature"
   ],
   "window_display": false
  }
 },
 "nbformat": 4,
 "nbformat_minor": 2
}
