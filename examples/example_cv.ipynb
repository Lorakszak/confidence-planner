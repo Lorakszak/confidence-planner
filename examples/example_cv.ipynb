{
 "cells": [
  {
   "cell_type": "code",
   "execution_count": 1,
   "metadata": {
    "ExecuteTime": {
     "end_time": "2022-05-09T08:07:52.009045Z",
     "start_time": "2022-05-09T08:07:48.520028Z"
    }
   },
   "outputs": [
    {
     "name": "stdout",
     "output_type": "stream",
     "text": [
      "Mean 10-fold CV accuracy: 0.92437343358396\n",
      "90% CI: [0.7621250540097285, 1.0]\n"
     ]
    }
   ],
   "source": [
    "from sklearn import datasets, svm, metrics\n",
    "from sklearn.model_selection import cross_val_score\n",
    "import numpy as np\n",
    "import confidence_planner as cp\n",
    "\n",
    "# example dataset and CV procedure\n",
    "X, y = datasets.load_breast_cancer(return_X_y=True)\n",
    "\n",
    "# training the classifier and calculating accuracy\n",
    "n_splits = 10\n",
    "clf = svm.SVC(gamma=0.001)\n",
    "scores = cross_val_score(clf, X, y, scoring='accuracy', cv=n_splits, n_jobs=-1)\n",
    "acc = np.mean(scores)\n",
    "\n",
    "# confidence interval and sample size estimation\n",
    "ci = cp.estimate_confidence_interval(y.shape[0], acc, confidence_level=0.90, method=\"cv\", n_splits=n_splits)\n",
    "\n",
    "print(f\"Mean 10-fold CV accuracy: {acc}\")\n",
    "print(f\"90% CI: {ci}\")"
   ]
  },
  {
   "cell_type": "code",
   "execution_count": null,
   "metadata": {},
   "outputs": [],
   "source": []
  }
 ],
 "metadata": {
  "hide_input": false,
  "interpreter": {
   "hash": "892ca59aa414453db5f6853b8b58843075bc15d3089cadd97fddafdae17dc237"
  },
  "kernelspec": {
   "display_name": "Python 3",
   "language": "python",
   "name": "python3"
  },
  "language_info": {
   "codemirror_mode": {
    "name": "ipython",
    "version": 3
   },
   "file_extension": ".py",
   "mimetype": "text/x-python",
   "name": "python",
   "nbconvert_exporter": "python",
   "pygments_lexer": "ipython3",
   "version": "3.7.9"
  },
  "toc": {
   "base_numbering": 1,
   "nav_menu": {},
   "number_sections": true,
   "sideBar": true,
   "skip_h1_title": false,
   "title_cell": "Table of Contents",
   "title_sidebar": "Contents",
   "toc_cell": false,
   "toc_position": {},
   "toc_section_display": true,
   "toc_window_display": true
  },
  "varInspector": {
   "cols": {
    "lenName": 16,
    "lenType": 16,
    "lenVar": 40
   },
   "kernels_config": {
    "python": {
     "delete_cmd_postfix": "",
     "delete_cmd_prefix": "del ",
     "library": "var_list.py",
     "varRefreshCmd": "print(var_dic_list())"
    },
    "r": {
     "delete_cmd_postfix": ") ",
     "delete_cmd_prefix": "rm(",
     "library": "var_list.r",
     "varRefreshCmd": "cat(var_dic_list()) "
    }
   },
   "types_to_exclude": [
    "module",
    "function",
    "builtin_function_or_method",
    "instance",
    "_Feature"
   ],
   "window_display": false
  }
 },
 "nbformat": 4,
 "nbformat_minor": 2
}
