{
 "cells": [
  {
   "cell_type": "code",
   "execution_count": 3,
   "metadata": {},
   "outputs": [
    {
     "name": "stdout",
     "output_type": "stream",
     "text": [
      "Confidence intervals around given accuracy for your confidence and 90%, 95%, 98%, 99%.\n",
      "([90.62003716837265, 100], [89.97973407770586, 100], [88.97842211314912, 100], [87.78988824634372, 100], [86.96784669983731, 100])\n"
     ]
    }
   ],
   "source": [
    "from numpy import mean\n",
    "from sklearn.model_selection import KFold\n",
    "from sklearn.model_selection import cross_val_score\n",
    "from sklearn import datasets, svm\n",
    "import sys\n",
    "import os\n",
    "\n",
    "sys.path.insert(0, os.path.abspath(os.path.join(os.path.dirname(\"__file__\"), '..')))\n",
    "from src import confidence_planner\n",
    "\n",
    "digits = datasets.load_digits()\n",
    "\n",
    "# Flatten the images\n",
    "n_samples = len(digits.images)\n",
    "data = digits.images.reshape((n_samples, -1))\n",
    "\n",
    "# Create a classifier: a support vector classifier\n",
    "clf = svm.SVC(gamma=0.001)\n",
    "\n",
    "# Prepare the cross-validation procedure\n",
    "n_splits = 10\n",
    "cv = KFold(n_splits=n_splits, shuffle=True)\n",
    "\n",
    "# Evaluate model\n",
    "scores = cross_val_score(clf, data, digits.target, scoring='accuracy', cv=cv, n_jobs=-1)\n",
    "\n",
    "# Get the model's accuracy\n",
    "accuracy = mean(scores)\n",
    "\n",
    "# Print confidence interval around the obtained accuracy with 85% confidence\n",
    "print(confidence_planner.cv_interval(n_samples, n_splits, accuracy, 0.85))"
   ]
  }
 ],
 "metadata": {
  "interpreter": {
   "hash": "892ca59aa414453db5f6853b8b58843075bc15d3089cadd97fddafdae17dc237"
  },
  "kernelspec": {
   "display_name": "Python 3.9.7 ('base')",
   "language": "python",
   "name": "python3"
  },
  "language_info": {
   "codemirror_mode": {
    "name": "ipython",
    "version": 3
   },
   "file_extension": ".py",
   "mimetype": "text/x-python",
   "name": "python",
   "nbconvert_exporter": "python",
   "pygments_lexer": "ipython3",
   "version": "3.9.7"
  },
  "orig_nbformat": 4
 },
 "nbformat": 4,
 "nbformat_minor": 2
}
