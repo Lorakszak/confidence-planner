{
 "cells": [
  {
   "cell_type": "code",
   "execution_count": 1,
   "metadata": {
    "ExecuteTime": {
     "end_time": "2022-05-15T22:17:34.370719Z",
     "start_time": "2022-05-15T22:17:30.684416Z"
    },
    "scrolled": true
   },
   "outputs": [
    {
     "name": "stdout",
     "output_type": "stream",
     "text": [
      "Mean accuracy: 0.9205110184348646\n",
      "90% CI: [0.8969876113888285, 0.9420327993897788]\n",
      "Test samples needed for a 0.05 radius 90% CI: 271\n"
     ]
    }
   ],
   "source": [
    "from sklearn import datasets, svm, metrics\n",
    "from sklearn.utils import resample\n",
    "import numpy as np\n",
    "import confidence_planner as cp\n",
    "\n",
    "X, y = datasets.load_breast_cancer(return_X_y=True)\n",
    "n_samples = X.shape[0]\n",
    "\n",
    "# Create a classifier: a support vector classifier\n",
    "clf = svm.SVC(gamma=0.001)\n",
    "\n",
    "n_iter = 100\n",
    "accuracies = []\n",
    "\n",
    "# Run model training and testing n_iter times\n",
    "for i in range(n_iter):\n",
    "    # Bootstrap indices\n",
    "    indices = resample(range(n_samples), n_samples=n_samples)\n",
    "\n",
    "    X_train = []\n",
    "    y_train = []\n",
    "    X_test = []\n",
    "    y_test = []\n",
    "\n",
    "    # Append images and labels with bootstrapped indices to lists for training\n",
    "    for idx in indices:\n",
    "        X_train.append(X[idx])\n",
    "        y_train.append(y[idx])\n",
    "\n",
    "    # Append images and labels that are not in a training subset to lists for testing\n",
    "    for i in range(n_samples):\n",
    "        if i not in indices:\n",
    "            X_test.append(X[i])\n",
    "            y_test.append(y[i])\n",
    "\n",
    "    # Learn the digits on the train subset\n",
    "    clf.fit(X_train, y_train)\n",
    "    predicted = clf.predict(X_test)\n",
    "    accuracy = metrics.accuracy_score(y_test, predicted)\n",
    "    accuracies.append(accuracy)\n",
    "\n",
    "acc_mean = np.mean(accuracies)\n",
    "acc_median = np.mean(accuracies)\n",
    "ci = cp.estimate_confidence_interval(None, accuracies, confidence_level=0.90, method=\"bootstrap\")\n",
    "sample = cp.estimate_sample_size(interval_radius=0.05, confidence_level=0.90, method=\"bootstrap\")\n",
    "\n",
    "print(f\"Mean accuracy: {acc_mean}\")\n",
    "print(f\"90% CI: {ci}\")\n",
    "print(f\"Test samples needed for a 0.05 radius 90% CI: {sample}\")"
   ]
  },
  {
   "cell_type": "code",
   "execution_count": 2,
   "metadata": {
    "ExecuteTime": {
     "end_time": "2022-05-15T22:17:37.128254Z",
     "start_time": "2022-05-15T22:17:36.924939Z"
    }
   },
   "outputs": [
    {
     "data": {
      "image/png": "[encoded data removed]",
      "text/plain": [
       "<Figure size 864x288 with 1 Axes>"
      ]
     },
     "metadata": {
      "needs_background": "light"
     },
     "output_type": "display_data"
    }
   ],
   "source": [
    "fig = cp.plot_classifier_intervals(\n",
    "    [\"SVC\"], \n",
    "    [None], \n",
    "    [accuracies],\n",
    "    method=\"bootstrap\",\n",
    "    width=12,\n",
    "    height=4\n",
    ");"
   ]
  },
  {
   "cell_type": "code",
   "execution_count": null,
   "metadata": {},
   "outputs": [],
   "source": []
  }
 ],
 "metadata": {
  "hide_input": false,
  "interpreter": {
   "hash": "892ca59aa414453db5f6853b8b58843075bc15d3089cadd97fddafdae17dc237"
  },
  "kernelspec": {
   "display_name": "Python 3",
   "language": "python",
   "name": "python3"
  },
  "language_info": {
   "codemirror_mode": {
    "name": "ipython",
    "version": 3
   },
   "file_extension": ".py",
   "mimetype": "text/x-python",
   "name": "python",
   "nbconvert_exporter": "python",
   "pygments_lexer": "ipython3",
   "version": "3.7.3"
  },
  "toc": {
   "base_numbering": 1,
   "nav_menu": {},
   "number_sections": true,
   "sideBar": true,
   "skip_h1_title": false,
   "title_cell": "Table of Contents",
   "title_sidebar": "Contents",
   "toc_cell": false,
   "toc_position": {},
   "toc_section_display": true,
   "toc_window_display": true
  },
  "varInspector": {
   "cols": {
    "lenName": 16,
    "lenType": 16,
    "lenVar": 40
   },
   "kernels_config": {
    "python": {
     "delete_cmd_postfix": "",
     "delete_cmd_prefix": "del ",
     "library": "var_list.py",
     "varRefreshCmd": "print(var_dic_list())"
    },
    "r": {
     "delete_cmd_postfix": ") ",
     "delete_cmd_prefix": "rm(",
     "library": "var_list.r",
     "varRefreshCmd": "cat(var_dic_list()) "
    }
   },
   "types_to_exclude": [
    "module",
    "function",
    "builtin_function_or_method",
    "instance",
    "_Feature"
   ],
   "window_display": false
  }
 },
 "nbformat": 4,
 "nbformat_minor": 2
}
