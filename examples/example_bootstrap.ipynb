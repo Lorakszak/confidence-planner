{
 "cells": [
  {
   "cell_type": "code",
   "execution_count": 1,
   "metadata": {},
   "outputs": [
    {
     "name": "stdout",
     "output_type": "stream",
     "text": [
      "Confidence intervals around given accuracy for your confidence and 90%, 95%, 98%, 99%.\n",
      "([98.34797263022624, 99.39236881005174], [98.29609577202015, 99.40227035983271], [98.16460611658026, 99.53831135578031], [98.07967819276, 99.54766938686795], [98.07544740498534, 99.55549408208026])\n"
     ]
    }
   ],
   "source": [
    "from sklearn import datasets, svm, metrics\n",
    "from sklearn.utils import resample\n",
    "import sys\n",
    "import os\n",
    "\n",
    "sys.path.insert(0, os.path.abspath(os.path.join(os.path.dirname(\"__file__\"), '..')))\n",
    "from src import confidence_planner\n",
    "\n",
    "digits = datasets.load_digits()\n",
    "\n",
    "# Flatten the images\n",
    "n_samples = len(digits.images)\n",
    "data = digits.images.reshape((n_samples, -1))\n",
    "\n",
    "# Create a classifier: a support vector classifier\n",
    "clf = svm.SVC(gamma=0.001)\n",
    "\n",
    "n_iter = 100\n",
    "accuracies = []\n",
    "\n",
    "# Run model training and testing n_iter times\n",
    "for i in range(n_iter):\n",
    "    # Bootstrap indices\n",
    "    indices = resample(range(n_samples), n_samples=n_samples)\n",
    "\n",
    "    X_train = []\n",
    "    y_train = []\n",
    "    X_test = []\n",
    "    y_test = []\n",
    "\n",
    "    # Append images and labels with bootstrapped indices to lists for training\n",
    "    for idx in indices:\n",
    "        X_train.append(data[idx])\n",
    "        y_train.append(digits.target[idx])\n",
    "\n",
    "    # Append images and labels that are not in a training subset to lists for testing\n",
    "    for i in range(n_samples):\n",
    "        if i not in indices:\n",
    "            X_test.append(data[i])\n",
    "            y_test.append(digits.target[i])\n",
    "\n",
    "    # Learn the digits on the train subset\n",
    "    clf.fit(X_train, y_train)\n",
    "\n",
    "    # Predict the value of the digit on the test subset\n",
    "    predicted = clf.predict(X_test)\n",
    "\n",
    "    # Get the model's accuracy in the form of percentages\n",
    "    accuracy_percents = 100*metrics.accuracy_score(y_test, predicted)\n",
    "\n",
    "    # Append accuracy to the list\n",
    "    accuracies.append(accuracy_percents)\n",
    "\n",
    "# Print confidence interval around the obtained accuracy with 85% confidence\n",
    "print(confidence_planner.percentile_BM(accuracies, 0.85))"
   ]
  }
 ],
 "metadata": {
  "interpreter": {
   "hash": "892ca59aa414453db5f6853b8b58843075bc15d3089cadd97fddafdae17dc237"
  },
  "kernelspec": {
   "display_name": "Python 3 (ipykernel)",
   "language": "python",
   "name": "python3"
  },
  "language_info": {
   "codemirror_mode": {
    "name": "ipython",
    "version": 3
   },
   "file_extension": ".py",
   "mimetype": "text/x-python",
   "name": "python",
   "nbconvert_exporter": "python",
   "pygments_lexer": "ipython3",
   "version": "3.9.7"
  }
 },
 "nbformat": 4,
 "nbformat_minor": 2
}
