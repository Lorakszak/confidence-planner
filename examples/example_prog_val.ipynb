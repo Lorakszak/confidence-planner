{
 "cells": [
  {
   "cell_type": "code",
   "execution_count": 1,
   "metadata": {},
   "outputs": [
    {
     "name": "stdout",
     "output_type": "stream",
     "text": [
      "Confidence intervals around given accuracy for your confidence and 90%, 95%, 98%, 99%.\n",
      "([86.48496080148254, 100], [85.81265658585671, 100], [84.76130096265173, 100], [83.51336644427353, 100], [82.65024083205714, 100])\n"
     ]
    }
   ],
   "source": [
    "import numpy as np\n",
    "from sklearn.model_selection import TimeSeriesSplit\n",
    "from sklearn import datasets, svm, metrics\n",
    "import sys\n",
    "import os\n",
    "\n",
    "sys.path.insert(0, os.path.abspath(os.path.join(os.path.dirname(\"__file__\"), '..')))\n",
    "from src import confidence_planner\n",
    "\n",
    "digits = datasets.load_digits()\n",
    "\n",
    "# Flatten the images\n",
    "n_samples = len(digits.images)\n",
    "data = digits.images.reshape((n_samples, -1))\n",
    "\n",
    "# Create a classifier: a support vector classifier\n",
    "clf = svm.SVC(gamma=0.001)\n",
    "\n",
    "# Create a time series split\n",
    "n_splits = 10\n",
    "n_test = len(digits.target)//(n_splits+1)\n",
    "tscv = TimeSeriesSplit(n_splits=n_splits, test_size=n_test)\n",
    "\n",
    "accuracies = []\n",
    "# Perform training and testing on splits\n",
    "for train_index, test_index in tscv.split(data):\n",
    "    X_train, X_test = data[train_index], data[test_index]\n",
    "    y_train, y_test = digits.target[train_index], digits.target[test_index]\n",
    "    # Learn the digits on the train subset\n",
    "    clf.fit(X_train, y_train)\n",
    "    # Predict the value of the digit on the test subset\n",
    "    predicted = clf.predict(X_test)\n",
    "    # Get the model's accuracy in the form of percentages\n",
    "    accuracy_percents = 100*metrics.accuracy_score(y_test, predicted)\n",
    "    accuracies.append(accuracy_percents)\n",
    "\n",
    "# Print confidence interval around the obtained accuracy with 85% confidence\n",
    "print(confidence_planner.prog_val(n_test, np.mean(accuracies), 0.85))"
   ]
  }
 ],
 "metadata": {
  "interpreter": {
   "hash": "892ca59aa414453db5f6853b8b58843075bc15d3089cadd97fddafdae17dc237"
  },
  "kernelspec": {
   "display_name": "Python 3.9.7 ('base')",
   "language": "python",
   "name": "python3"
  },
  "language_info": {
   "codemirror_mode": {
    "name": "ipython",
    "version": 3
   },
   "file_extension": ".py",
   "mimetype": "text/x-python",
   "name": "python",
   "nbconvert_exporter": "python",
   "pygments_lexer": "ipython3",
   "version": "3.9.7"
  },
  "orig_nbformat": 4
 },
 "nbformat": 4,
 "nbformat_minor": 2
}
