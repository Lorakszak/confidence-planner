{
 "cells": [
  {
   "cell_type": "code",
   "execution_count": 1,
   "metadata": {
    "ExecuteTime": {
     "end_time": "2022-05-15T22:17:45.263303Z",
     "start_time": "2022-05-15T22:17:43.921520Z"
    }
   },
   "outputs": [
    {
     "name": "stdout",
     "output_type": "stream",
     "text": [
      "Mean progressive validation accuracy: 0.8549019607843139\n",
      "90% CI: [0.6835254038970625, 1.0]\n",
      "Test samples needed for a 0.05 radius 90% CI: 600\n"
     ]
    }
   ],
   "source": [
    "from sklearn import datasets, svm, metrics\n",
    "from sklearn.model_selection import TimeSeriesSplit\n",
    "import numpy as np\n",
    "import confidence_planner as cp\n",
    "\n",
    "# example dataset and evaluation procedure\n",
    "X, y = datasets.load_breast_cancer(return_X_y=True)\n",
    "clf = svm.SVC(gamma=0.001)\n",
    "n_splits = 10\n",
    "n_test = len(y)//(n_splits+1)\n",
    "tscv = TimeSeriesSplit(n_splits=n_splits, test_size=n_test)\n",
    "\n",
    "accuracies = []\n",
    "# Perform training and testing on splits\n",
    "for train_index, test_index in tscv.split(X):\n",
    "    X_train, X_test = X[train_index], X[test_index]\n",
    "    y_train, y_test = y[train_index], y[test_index]\n",
    "\n",
    "    clf.fit(X_train, y_train)\n",
    "    predicted = clf.predict(X_test)\n",
    "    accuracy = metrics.accuracy_score(y_test, predicted)\n",
    "    accuracies.append(accuracy)\n",
    "\n",
    "acc = np.mean(accuracies)\n",
    "ci = cp.estimate_confidence_interval(n_test, acc, confidence_level=0.90, method=\"progressive\")\n",
    "sample = cp.estimate_sample_size(interval_radius=0.05, confidence_level=0.90, method=\"progressive\")\n",
    "\n",
    "print(f\"Mean progressive validation accuracy: {acc}\")\n",
    "print(f\"90% CI: {ci}\")\n",
    "print(f\"Test samples needed for a 0.05 radius 90% CI: {sample}\")"
   ]
  },
  {
   "cell_type": "code",
   "execution_count": 2,
   "metadata": {
    "ExecuteTime": {
     "end_time": "2022-05-15T22:17:50.489246Z",
     "start_time": "2022-05-15T22:17:50.311327Z"
    }
   },
   "outputs": [
    {
     "data": {
      "image/png": "[encoded data removed]",
      "text/plain": [
       "<Figure size 864x288 with 1 Axes>"
      ]
     },
     "metadata": {
      "needs_background": "light"
     },
     "output_type": "display_data"
    }
   ],
   "source": [
    "fig = cp.plot_classifier_intervals(\n",
    "    [\"SVC\"], \n",
    "    [n_test], \n",
    "    [acc],\n",
    "    method=\"progressive\",\n",
    "    width=12,\n",
    "    height=4\n",
    ");"
   ]
  },
  {
   "cell_type": "code",
   "execution_count": null,
   "metadata": {},
   "outputs": [],
   "source": []
  }
 ],
 "metadata": {
  "hide_input": false,
  "interpreter": {
   "hash": "892ca59aa414453db5f6853b8b58843075bc15d3089cadd97fddafdae17dc237"
  },
  "kernelspec": {
   "display_name": "Python 3",
   "language": "python",
   "name": "python3"
  },
  "language_info": {
   "codemirror_mode": {
    "name": "ipython",
    "version": 3
   },
   "file_extension": ".py",
   "mimetype": "text/x-python",
   "name": "python",
   "nbconvert_exporter": "python",
   "pygments_lexer": "ipython3",
   "version": "3.7.3"
  },
  "toc": {
   "base_numbering": 1,
   "nav_menu": {},
   "number_sections": true,
   "sideBar": true,
   "skip_h1_title": false,
   "title_cell": "Table of Contents",
   "title_sidebar": "Contents",
   "toc_cell": false,
   "toc_position": {},
   "toc_section_display": true,
   "toc_window_display": true
  },
  "varInspector": {
   "cols": {
    "lenName": 16,
    "lenType": 16,
    "lenVar": 40
   },
   "kernels_config": {
    "python": {
     "delete_cmd_postfix": "",
     "delete_cmd_prefix": "del ",
     "library": "var_list.py",
     "varRefreshCmd": "print(var_dic_list())"
    },
    "r": {
     "delete_cmd_postfix": ") ",
     "delete_cmd_prefix": "rm(",
     "library": "var_list.r",
     "varRefreshCmd": "cat(var_dic_list()) "
    }
   },
   "types_to_exclude": [
    "module",
    "function",
    "builtin_function_or_method",
    "instance",
    "_Feature"
   ],
   "window_display": false
  }
 },
 "nbformat": 4,
 "nbformat_minor": 2
}
