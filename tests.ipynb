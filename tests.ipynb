{
 "cells": [
  {
   "cell_type": "markdown",
   "id": "hearing-diversity",
   "metadata": {},
   "source": [
    "# Tests for calculating confidence interval"
   ]
  },
  {
   "cell_type": "markdown",
   "id": "geographic-criminal",
   "metadata": {},
   "source": [
    "### Examplary description\n",
    "The application provides different methods for calculating confidence interval for obtained accuracy from different training techniques. The aim of the confidence interval is to measure the degree of uncertainty or certainty in a sampling method. There are two available options and number of tests to choose from:\n",
    "- holdout\n",
    "    - Z-test -> use when holdout sample size is big (>30) and you know standard deviation\n",
    "    - Z-test with confidence -> use when holdout sample size is big (>30) and you don't know standard deviation\n",
    "    - T-test -> use when holdout sample size is small (<30) and you know standard deviation\n",
    "    - Loose test set bound -> use to obtain wide intervals\n",
    "    - Clopper-Pearson -> use to obtain narrow intervals\n",
    "    - Wilson score -> use to obtain the narrowest intervals\n",
    "- for bootstrap\n",
    "    - Percentile Bootstrap Method -> use when number of bootstrap resamples is big\n",
    "    - Standard error method -> use when you know additionally overall accuracy of bootstrap resamples\n",
    "    \n",
    "Moreover, for z-test and loose test set bound there are reverse tests. With their help, when you know what confidence interval you want to obtain at a given confidence, tests will return number of samples needed for a holdout method."
   ]
  },
  {
   "cell_type": "code",
   "execution_count": 88,
   "id": "ongoing-enterprise",
   "metadata": {},
   "outputs": [],
   "source": [
    "import scipy.stats as st\n",
    "import math\n",
    "import statsmodels as sm\n",
    "import numpy as np"
   ]
  },
  {
   "cell_type": "markdown",
   "id": "cultural-session",
   "metadata": {},
   "source": [
    "#### Z-test confidence interval\n",
    "\n",
    "upper/lower bound of a confidence interval:<br>\n",
    "X ± Z*(s/√n)<br>\n",
    "X is the obtained accuracy<br>\n",
    "Z is the value from the standard normal distribution for the selected confidence level<br>\n",
    "s is the standard deviation<br>\n",
    "n is the number of observations<br>\n",
    "\n",
    "A Z-test is any statistical test for which the distribution of the test statistic under the null hypothesis can be approximated by a normal distribution. Z-tests test the mean of a distribution. For each significance level in the confidence interval, the Z-test has a single critical value (for example, 1.96 for 5% two tailed).<br>\n",
    "Z-test can be used when a sample size is big, usually > 30."
   ]
  },
  {
   "cell_type": "code",
   "execution_count": 89,
   "id": "civilian-supplement",
   "metadata": {},
   "outputs": [
    {
     "name": "stdout",
     "output_type": "stream",
     "text": [
      "([48.614096175650324, 51.385903824349676], [48.83691284632333, 51.16308715367667], [48.614096175650324, 51.385903824349676], [48.35502364286681, 51.64497635713319], [48.178613632281554, 51.821386367718446])\n",
      "50\n"
     ]
    }
   ],
   "source": [
    "# Z-Test\n",
    "\n",
    "\n",
    "def ztest(n, acc, std_dev, conf):\n",
    "    '''\n",
    "    This test assumes that data is normally distributed and works well for bigger number of samples (>30).\n",
    "    Function takes number of samples (n), obtained accuracy (acc),\n",
    "    standard deviation (std_dev) and confidence (conf).\n",
    "    Returns lower and upper bounds for the given confidence interval as well as confidence intervals \n",
    "    for 90%, 95%, 98% and 99% confidences.\n",
    "    '''\n",
    "    \n",
    "    z90 = st.norm.ppf(1-(1-0.9)/2)\n",
    "    upper_bound90 = acc + z90*std_dev/math.sqrt(n)\n",
    "    lower_bound90 = acc - z90*std_dev/math.sqrt(n)\n",
    "    int90 = [lower_bound90, upper_bound90]\n",
    "    \n",
    "    z95 = st.norm.ppf(1-(1-0.95)/2)\n",
    "    upper_bound95 = acc + z95*std_dev/math.sqrt(n)\n",
    "    lower_bound95 = acc - z95*std_dev/math.sqrt(n)\n",
    "    int95 = [lower_bound95, upper_bound95]\n",
    "    \n",
    "    z98 = st.norm.ppf(1-(1-0.98)/2)\n",
    "    upper_bound98 = acc + z98*std_dev/math.sqrt(n)\n",
    "    lower_bound98 = acc - z98*std_dev/math.sqrt(n)\n",
    "    int98 = [lower_bound98, upper_bound98]\n",
    "    \n",
    "    z99 = st.norm.ppf(1-(1-0.99)/2)\n",
    "    upper_bound99 = acc + z99*std_dev/math.sqrt(n)\n",
    "    lower_bound99 = acc - z99*std_dev/math.sqrt(n)\n",
    "    int99 = [lower_bound99, upper_bound99]\n",
    "    \n",
    "    \n",
    "    z = st.norm.ppf(1-(1-conf)/2)\n",
    "    upper_bound = acc + z*std_dev/math.sqrt(n)\n",
    "    lower_bound = acc - z*std_dev/math.sqrt(n)\n",
    "    int_conf = [lower_bound, upper_bound]\n",
    "    \n",
    "    return (int_conf, int90, int95, int98, int99)\n",
    "\n",
    "\n",
    "print(ztest(50, 50, 5, 0.95))\n",
    "\n",
    "\n",
    "def reverse_ztest(std_dev, diff, conf):\n",
    "    \n",
    "    z = st.norm.ppf(1-(1-conf)/2)\n",
    "    n = (z*std_dev/(diff))**2\n",
    "    \n",
    "    return int(round(n))\n",
    "\n",
    "print(reverse_ztest(5, 1.39, 0.95))\n"
   ]
  },
  {
   "cell_type": "markdown",
   "id": "classified-viewer",
   "metadata": {},
   "source": [
    "#### Z-test with precision\n",
    "upper/lower bound of a confidence interval:<br>\n",
    "X ± 10*Z*√(pr^2/n)<br>\n",
    "X is the obtained accuracy<br>\n",
    "Z is the value from the standard normal distribution for the selected confidence level<br>\n",
    "pr is the precision; the test assumes the worst possible precision = 0.5<br>\n",
    "n is the number of observations<br>\n",
    "An alternative way to calculate confidence intervals using z-test. When the standard deviation of the data is unknown, one can use this approach. Similarly, a sample size should be big ( > 30)."
   ]
  },
  {
   "cell_type": "code",
   "execution_count": 90,
   "id": "advance-camping",
   "metadata": {},
   "outputs": [
    {
     "name": "stdout",
     "output_type": "stream",
     "text": [
      "([48.614096175650324, 51.385903824349676], [48.83691284632333, 51.16308715367667], [48.614096175650324, 51.385903824349676], [48.35502364286681, 51.64497635713319], [48.178613632281554, 51.821386367718446])\n",
      "50\n"
     ]
    }
   ],
   "source": [
    "# Z-Test precission\n",
    "\n",
    "def ztest_pr(n, acc, conf):\n",
    "    '''\n",
    "    This test assumes that data is normally distributed and works well for bigger number of samples (>30).\n",
    "    Function takes number of samples (n), obtained accuracy (acc) and confidence (conf).\n",
    "    Returns lower and upper bounds for the given confidence interval as well as confidence intervals \n",
    "    for 90%, 95%, 98% and 99% confidences.\n",
    "    '''\n",
    "    \n",
    "    z90 = st.norm.ppf(1-(1-0.9)/2)\n",
    "    pr = z90*math.sqrt(0.25/n)\n",
    "    upper_bound90 = acc + 10*pr\n",
    "    lower_bound90 = acc - 10*pr\n",
    "    int90 = [lower_bound90, upper_bound90]\n",
    "    \n",
    "    z95 = st.norm.ppf(1-(1-0.95)/2)\n",
    "    pr = z95*math.sqrt(0.25/n)\n",
    "    upper_bound95 = acc + 10*pr\n",
    "    lower_bound95 = acc - 10*pr\n",
    "    int95 = [lower_bound95, upper_bound95]\n",
    "    \n",
    "    z98 = st.norm.ppf(1-(1-0.98)/2)\n",
    "    pr = z98*math.sqrt(0.25/n)\n",
    "    upper_bound98 = acc + 10*pr\n",
    "    lower_bound98 = acc - 10*pr\n",
    "    int98 = [lower_bound98, upper_bound98]\n",
    "    \n",
    "    z99 = st.norm.ppf(1-(1-0.99)/2)\n",
    "    pr = z99*math.sqrt(0.25/n)\n",
    "    upper_bound99 = acc + 10*pr\n",
    "    lower_bound99 = acc - 10*pr\n",
    "    int99 = [lower_bound99, upper_bound99]    \n",
    "    \n",
    "    \n",
    "    z = st.norm.ppf(1-(1-conf)/2)\n",
    "    pr = z*math.sqrt(0.25/n)\n",
    "    upper_bound = acc + 10*pr\n",
    "    lower_bound = acc - 10*pr\n",
    "    int_conf = [lower_bound, upper_bound]\n",
    "    \n",
    "    return (int_conf, int90, int95, int98, int99)\n",
    "\n",
    "print(ztest_pr(50, 50, 0.95))\n",
    "\n",
    "\n",
    "def reverse_ztest_pr(diff, conf):\n",
    "    '''\n",
    "    Function takes mean of data (mean), difference from accuracy to lower/upper bound which is upper_bound-acc \n",
    "    or acc-lower_bound (diff) and confidence (conf).\n",
    "    Returns rounded number of samples which should be taken to obtain a given confidence interval.\n",
    "    '''\n",
    "    z = st.norm.ppf(1-(1-conf)/2)\n",
    "    n = (z*math.sqrt(0.25)/(diff/10))**2\n",
    "    return int(round(n))\n",
    "\n",
    "print(reverse_ztest_pr(1.39, 0.95))"
   ]
  },
  {
   "cell_type": "markdown",
   "id": "peaceful-killing",
   "metadata": {},
   "source": [
    "#### t-test confidence interval\n",
    "\n",
    "upper/lower bound of a confidence interval:<br>\n",
    "X ± t*(s/√n)<br>\n",
    "X is the obtained accuracy<br>\n",
    "t is the value from the Student's t-distribution for the selected confidence level<br>\n",
    "s is the standard deviation<br>\n",
    "n is the number of observations<br>\n",
    "\n",
    "The t-test is any statistical hypothesis test in which the test statistic follows a Student's t-distribution under the null hypothesis.\n",
    "A t-test is the most commonly applied when the test statistic would follow a normal distribution if the value of a scaling term in the test statistic were known.<br> \n",
    "T-test can be used for a small number of samples ( < 30)."
   ]
  },
  {
   "cell_type": "code",
   "execution_count": 91,
   "id": "qualified-aging",
   "metadata": {},
   "outputs": [
    {
     "name": "stdout",
     "output_type": "stream",
     "text": [
      "([47.69399586496663, 52.30600413503337], [48.14045196247716, 51.85954803752284], [47.69399586496663, 52.30600413503337], [47.10354055723948, 52.89645944276052], [46.6446126686666, 53.3553873313334])\n"
     ]
    }
   ],
   "source": [
    "# T-test\n",
    "\n",
    "def ttest(n, acc, std_dev, conf):\n",
    "    '''\n",
    "    This test works for smaller number of samples (<30), uses t-distribution instead the gaussian.\n",
    "    Function takes number of samples (n), obtained accuracy (acc), standard deviation (std_dev) and confidence (conf).\n",
    "    Returns lower and upper bounds for the given confidence interval as well as confidence intervals \n",
    "    for 90%, 95%, 98% and 99% confidences.\n",
    "    '''\n",
    "    \n",
    "    t90 = st.t.ppf(1-(1-0.9)/2, n-1)\n",
    "    upper_bound90 = acc + t90*std_dev/math.sqrt(n)\n",
    "    lower_bound90 = acc - t90*std_dev/math.sqrt(n)\n",
    "    int90 = [lower_bound90, upper_bound90]\n",
    "    \n",
    "    t95 = st.t.ppf(1-(1-0.95)/2, n-1)\n",
    "    upper_bound95 = acc + t95*std_dev/math.sqrt(n)\n",
    "    lower_bound95 = acc - t95*std_dev/math.sqrt(n)\n",
    "    int95 = [lower_bound95, upper_bound95]\n",
    "    \n",
    "    t98 = st.t.ppf(1-(1-0.98)/2, n-1)\n",
    "    upper_bound98 = acc + t98*std_dev/math.sqrt(n)\n",
    "    lower_bound98 = acc - t98*std_dev/math.sqrt(n)\n",
    "    int98 = [lower_bound98, upper_bound98]\n",
    "    \n",
    "    t99 = st.t.ppf(1-(1-0.99)/2, n-1)\n",
    "    upper_bound99 = acc + t99*std_dev/math.sqrt(n)\n",
    "    lower_bound99 = acc - t99*std_dev/math.sqrt(n)\n",
    "    int99 = [lower_bound99, upper_bound99]\n",
    "    \n",
    "    \n",
    "    t = st.t.ppf(1-(1-conf)/2, n-1)\n",
    "    upper_bound = acc + t*std_dev/math.sqrt(n)\n",
    "    lower_bound = acc - t*std_dev/math.sqrt(n)\n",
    "    int_conf = [lower_bound, upper_bound]\n",
    "    \n",
    "    return (int_conf, int90, int95, int98, int99)\n",
    "\n",
    "print(ttest(9, 50, 3, 0.95))\n",
    "\n",
    "\n",
    "#def reverse_ttest()"
   ]
  },
  {
   "cell_type": "markdown",
   "id": "entitled-complexity",
   "metadata": {},
   "source": [
    "#### Loose test set bound (Langford)"
   ]
  },
  {
   "cell_type": "code",
   "execution_count": 92,
   "id": "reflected-speech",
   "metadata": {},
   "outputs": [
    {
     "name": "stdout",
     "output_type": "stream",
     "text": [
      "([48.07935441736016, 51.92064558263984], [48.26918161739771, 51.73081838260229], [48.07935441736016, 51.92064558263984], [47.854033973710656, 52.145966026289344], [47.69819258699864, 52.30180741300136])\n",
      "50\n"
     ]
    }
   ],
   "source": [
    "# Loose test set bound Langford\n",
    "\n",
    "def loose_langford(n, acc, conf):\n",
    "    '''\n",
    "    Function takes number of samples (n), obtained accuracy (acc) and confidence (conf).\n",
    "    Returns lower and upper bounds for the given confidence interval as well as confidence intervals \n",
    "    for 90%, 95%, 98% and 99% confidences.\n",
    "    '''\n",
    "    \n",
    "    pr90 = math.sqrt(math.log(2/(1-0.90))/(n*2))\n",
    "    upper_bound90 = acc + pr90*10\n",
    "    lower_bound90 = acc - pr90*10\n",
    "    int90 = [lower_bound90, upper_bound90]\n",
    "    \n",
    "    pr95 = math.sqrt(math.log(2/(1-0.95))/(n*2))\n",
    "    upper_bound95 = acc + pr95*10\n",
    "    lower_bound95 = acc - pr95*10\n",
    "    int95 = [lower_bound95, upper_bound95]\n",
    "    \n",
    "    pr98 = math.sqrt(math.log(2/(1-0.98))/(n*2))\n",
    "    upper_bound98 = acc + pr98*10\n",
    "    lower_bound98 = acc - pr98*10\n",
    "    int98 = [lower_bound98, upper_bound98]\n",
    "    \n",
    "    pr99 = math.sqrt(math.log(2/(1-0.99))/(n*2))\n",
    "    upper_bound99 = acc + pr99*10\n",
    "    lower_bound99 = acc - pr99*10\n",
    "    int99 = [lower_bound99, upper_bound99]\n",
    "    \n",
    "    \n",
    "    pr = math.sqrt(math.log(2/(1-conf))/(n*2))\n",
    "    upper_bound = acc + pr*10\n",
    "    lower_bound = acc - pr*10\n",
    "    int_conf = [lower_bound, upper_bound]\n",
    "    return (int_conf, int90, int95, int98, int99)\n",
    "\n",
    "print(loose_langford(50, 50, 0.95))\n",
    "\n",
    "def loose_langford_reverse(diff, conf):\n",
    "    '''\n",
    "    Function takes difference from accuracy to lower/upper bound which is upper_bound-acc \n",
    "    or acc-lower_bound (diff) and confidence (conf).\n",
    "    Returns rounded number of samples which should be taken to obtain a given confidence interval.\n",
    "    '''\n",
    "    n = math.log(2/(1-conf))/(2*(diff/10)**2)\n",
    "    return int(round(n))\n",
    "\n",
    "print(loose_langford_reverse(1.92, 0.95))"
   ]
  },
  {
   "cell_type": "markdown",
   "id": "promotional-boutique",
   "metadata": {},
   "source": [
    "#### Clopper-Pearson (beta distribution)\n",
    "The Clopper–Pearson interval is an early and very common method for calculating binomial confidence intervals. This is often called an 'exact' method, because it is based on the cumulative probabilities of the binomial distribution (i.e., exactly the correct distribution rather than an approximation). However, in cases where we know the population size, the intervals may not be the smallest possible."
   ]
  },
  {
   "cell_type": "code",
   "execution_count": 93,
   "id": "configured-richmond",
   "metadata": {},
   "outputs": [
    {
     "name": "stdout",
     "output_type": "stream",
     "text": [
      "([48.55272997129908, 51.44727002870092], [48.76245891209321, 51.23754108790679], [48.55272997129908, 51.44727002870092], [48.31404705573435, 51.68595294426565], [48.1551042112981, 51.8448957887019])\n"
     ]
    }
   ],
   "source": [
    "# Clopper-Pearson\n",
    "\n",
    "def clopper_pearson(n, acc, conf):\n",
    "    '''\n",
    "    Function takes number of samples (n), obtained accuracy (acc) and confidence (conf).\n",
    "    Returns lower and upper bounds for the given confidence interval as well as confidence intervals \n",
    "    for 90%, 95%, 98% and 99% confidences.\n",
    "    '''\n",
    "    \n",
    "    low90, high90 = sm.stats.proportion.proportion_confint(n/2, n, alpha=1-0.90, method = \"beta\")\n",
    "    int90 = [acc-(0.5-low90)*10, acc+(high90-0.5)*10]\n",
    "    \n",
    "    low95, high95 = sm.stats.proportion.proportion_confint(n/2, n, alpha=1-0.95, method = \"beta\")\n",
    "    int95 = [acc-(0.5-low95)*10, acc+(high95-0.5)*10]\n",
    "    \n",
    "    low98, high98 = sm.stats.proportion.proportion_confint(n/2, n, alpha=1-0.98, method = \"beta\")\n",
    "    int98 = [acc-(0.5-low98)*10, acc+(high98-0.5)*10]\n",
    "    \n",
    "    low99, high99 = sm.stats.proportion.proportion_confint(n/2, n, alpha=1-0.99, method = \"beta\")\n",
    "    int99 = [acc-(0.5-low99)*10, acc+(high99-0.5)*10]\n",
    "    \n",
    "    \n",
    "    low, high = sm.stats.proportion.proportion_confint(n/2, n, alpha=1-conf, method = \"beta\")\n",
    "    int_conf = [acc-(0.5-low)*10, acc+(high-0.5)*10]\n",
    "    return (int_conf, int90, int95, int98, int99)\n",
    "\n",
    "print(clopper_pearson(50, 50, 0.95))"
   ]
  },
  {
   "cell_type": "markdown",
   "id": "british-offset",
   "metadata": {},
   "source": [
    "#### Wilson score interval\n",
    "The Wilson score interval is an improvement over the normal approximation interval in multiple respects. Unlike the symmetric normal approximation interval, the Wilson score interval is asymmetric. It does not suffer from problems of overshoot and zero-width intervals that afflict the normal interval, and it may be safely employed with small samples and skewed observations.<br>\n",
    "The Wilson interval is derived from the Wilson Score Test, which belongs to a class of tests called Rao Score Tests. It relies on the asymptotic normality of your estimator.\n",
    "Wilson intervals get their assymetry from the underlying likelihood function for the binomial, which is used to compute the \"expected standard error\" and \"score\" (i.e., first derivative of the likelihood function) under the null hypotheisis. Since these values will change as you very your null hypothesis, the interval where the normalized score (score/expected standard error) exceeds your pre-specified Z-cutoff for significance will not be symmetric, in general."
   ]
  },
  {
   "cell_type": "code",
   "execution_count": 94,
   "id": "stunning-keeping",
   "metadata": {},
   "outputs": [
    {
     "name": "stdout",
     "output_type": "stream",
     "text": [
      "([48.664451431682856, 51.335548568317144], [48.86715859686505, 51.13284140313495], [48.664451431682856, 51.335548568317144], [48.43741675431165, 51.56258324568835], [48.28862561286529, 51.71137438713471])\n"
     ]
    }
   ],
   "source": [
    "# Wilson score interval\n",
    "\n",
    "def wilson(n, acc, conf):\n",
    "    '''\n",
    "    Function takes number of samples (n), obtained accuracy (acc) and confidence (conf).\n",
    "    Returns lower and upper bounds for the given confidence interval as well as confidence intervals \n",
    "    for 90%, 95%, 98% and 99% confidences.\n",
    "    '''\n",
    "    \n",
    "    low90, high90 = sm.stats.proportion.proportion_confint(n/2, n, alpha=1-0.90, method = \"wilson\")\n",
    "    int90 = [acc-(0.5-low90)*10, acc+(high90-0.5)*10]\n",
    "    \n",
    "    low95, high95 = sm.stats.proportion.proportion_confint(n/2, n, alpha=1-0.95, method = \"wilson\")\n",
    "    int95 = [acc-(0.5-low95)*10, acc+(high95-0.5)*10]\n",
    "    \n",
    "    low98, high98 = sm.stats.proportion.proportion_confint(n/2, n, alpha=1-0.98, method = \"wilson\")\n",
    "    int98 = [acc-(0.5-low98)*10, acc+(high98-0.5)*10]\n",
    "    \n",
    "    low99, high99 = sm.stats.proportion.proportion_confint(n/2, n, alpha=1-0.99, method = \"wilson\")\n",
    "    int99 = [acc-(0.5-low99)*10, acc+(high99-0.5)*10]\n",
    "    \n",
    "    \n",
    "    low, high = sm.stats.proportion.proportion_confint(n/2, n, alpha=1-conf, method = \"wilson\")\n",
    "    int_conf = [acc-(0.5-low)*10, acc+(high-0.5)*10]\n",
    "    return (int_conf, int90, int95, int98, int99)\n",
    "\n",
    "print(wilson(50, 50, 0.95))"
   ]
  },
  {
   "cell_type": "markdown",
   "id": "hindu-cameroon",
   "metadata": {},
   "source": [
    "#### Percentile Bootstrap Method\n",
    "The percentile bootstrap interval is just the interval between the 100*(α/2) and 100*(1−α/2) percentiles of the distribution of θ estimates obtained from resampling, where θ represents a parameter of interest and α is the level of significance (e.g., α = 0.05 for 95% CIs) (Efron, 1982). A bootstrap percentile CI of θˆ (an estimator of θ) can be obtained as follows: (1) B random bootstrap samples are generated, (2) a parameter estimate is calculated from each bootstrap sample, (3) all B bootstrap parameter estimates are ordered from the lowest to highest, and (4) the CI is constructed as follows,<br>\n",
    "\n",
    "$θˆ_{lower limit}$, $θˆ_{upper limit}$ = $θˆ_{j}$, $θˆ_{k}$ <br>\n",
    "\n",
    "where $θˆ_{j}$ denotes the jth quantile (lower limit), and $θˆ_{k}$ denotes the kth quantile (upper limit); j=(α/2)*B, k=(1−α/2)*B. For example, a 95% percentile bootstrap CI with 1,000 bootstrap samples is the interval between the 25th quantile value and the 975th quantile value of the 1,000 bootstrap parameter estimates."
   ]
  },
  {
   "cell_type": "code",
   "execution_count": 95,
   "id": "surprising-debut",
   "metadata": {},
   "outputs": [
    {
     "name": "stdout",
     "output_type": "stream",
     "text": [
      "([48.13924775312831, 52.03775143699797], [48.37459766391131, 51.645317916031864], [48.13924775312831, 52.03775143699797], [47.73783994056898, 52.458574437952514], [47.52274273370016, 52.76294393519458])\n"
     ]
    }
   ],
   "source": [
    "# Percentile bootstrap method\n",
    "\n",
    "def percentile_BM(accs, conf):\n",
    "    '''\n",
    "    Function takes list of resamples accuracies obtained from bootstrap method(accs) and confidence (conf).\n",
    "    Returns lower and upper bounds for the given confidence interval as well as confidence intervals \n",
    "    for 90%, 95%, 98% and 99% confidences.\n",
    "    '''\n",
    "    accs.sort()\n",
    "    accs = np.array(accs)\n",
    "    \n",
    "    lower_bound90 = np.percentile(accs, 100*((1-0.9)/2))\n",
    "    upper_bound90 = np.percentile(accs, 100*(0.9 + (1-0.9)/2))\n",
    "    int90 = [lower_bound90, upper_bound90]\n",
    "    \n",
    "    lower_bound95 = np.percentile(accs, 100*((1-0.95)/2))\n",
    "    upper_bound95 = np.percentile(accs, 100*(0.95 + (1-0.95)/2))\n",
    "    int95 = [lower_bound95, upper_bound95]\n",
    "    \n",
    "    lower_bound98 = np.percentile(accs, 100*((1-0.98)/2))\n",
    "    upper_bound98 = np.percentile(accs, 100*(0.98 + (1-0.98)/2))\n",
    "    int98 = [lower_bound98, upper_bound98]\n",
    "    \n",
    "    lower_bound99 = np.percentile(accs, 100*((1-0.99)/2))\n",
    "    upper_bound99 = np.percentile(accs, 100*(0.99 + (1-0.99)/2))\n",
    "    int99 = [lower_bound99, upper_bound99]\n",
    "    \n",
    "    \n",
    "    lower_bound = np.percentile(accs, 100*((1-conf)/2))\n",
    "    upper_bound = np.percentile(accs, 100*(conf + (1-conf)/2))\n",
    "    int_conf = [lower_bound, upper_bound]\n",
    "    return (int_conf, int90, int95, int98, int99)\n",
    "\n",
    "\n",
    "test_lst = list(np.random.normal(loc = 50, size=1000))\n",
    "print(percentile_BM(test_lst, 0.95))"
   ]
  },
  {
   "cell_type": "markdown",
   "id": "spatial-diesel",
   "metadata": {},
   "source": [
    "#### Standard error method\n",
    "We can only use the standard error rule when the bootstrap distribution is roughly normally shaped.\n",
    "\n",
    "upper/lower bound of a confidence interval:<br>\n",
    "X ± Z*SE<br>\n",
    "X is the obtained accuracy<br>\n",
    "Z is the value from the standard normal distribution for the selected confidence level<br>\n",
    "SE is the standard error (standard deviation of the resamples accuracies)<br>"
   ]
  },
  {
   "cell_type": "code",
   "execution_count": 96,
   "id": "digital-shopper",
   "metadata": {},
   "outputs": [
    {
     "name": "stdout",
     "output_type": "stream",
     "text": [
      "([48.05141868827758, 51.94858131172242], [48.36469901320731, 51.63530098679269], [48.05141868827758, 51.94858131172242], [47.68716260723283, 52.31283739276717], [47.439130064290325, 52.560869935709675])\n"
     ]
    }
   ],
   "source": [
    "# Standard method error\n",
    "\n",
    "def std_method(acc, accs, conf):\n",
    "    '''\n",
    "    Function takes obtained accuracy (acc), list of resamples accuracies obtained from bootstrap method(accs) \n",
    "    and confidence (conf). Returns lower and upper bounds for the given confidence interval \n",
    "    as well as confidence intervals for 90%, 95%, 98% and 99% confidences.\n",
    "    '''\n",
    "    \n",
    "    z90 = st.norm.ppf(1-(1-0.9)/2)\n",
    "    se90 = np.std(accs)\n",
    "    lower_bound90 = acc - z90*se90\n",
    "    upper_bound90 = acc + z90*se90\n",
    "    int90 = [lower_bound90, upper_bound90]\n",
    "    \n",
    "    z95 = st.norm.ppf(1-(1-0.95)/2)\n",
    "    se95 = np.std(accs)\n",
    "    lower_bound95 = acc - z95*se95\n",
    "    upper_bound95 = acc + z95*se95\n",
    "    int95 = [lower_bound95, upper_bound95]\n",
    "    \n",
    "    z98 = st.norm.ppf(1-(1-0.98)/2)\n",
    "    se98 = np.std(accs)\n",
    "    lower_bound98 = acc - z98*se98\n",
    "    upper_bound98 = acc + z98*se98\n",
    "    int98 = [lower_bound98, upper_bound98]\n",
    "    \n",
    "    z99 = st.norm.ppf(1-(1-0.99)/2)\n",
    "    se99 = np.std(accs)\n",
    "    lower_bound99 = acc - z99*se99\n",
    "    upper_bound99 = acc + z99*se99\n",
    "    int99 = [lower_bound99, upper_bound99]\n",
    "    \n",
    "    \n",
    "    z = st.norm.ppf(1-(1-conf)/2)\n",
    "    se = np.std(accs)\n",
    "    lower_bound = acc - z*se\n",
    "    upper_bound = acc + z*se\n",
    "    int_conf = [lower_bound, upper_bound]\n",
    "    return (int_conf, int90, int95, int98, int99)\n",
    "\n",
    "print(std_method(50, test_lst, 0.95))"
   ]
  }
 ],
 "metadata": {
  "kernelspec": {
   "display_name": "Python 3",
   "language": "python",
   "name": "python3"
  },
  "language_info": {
   "codemirror_mode": {
    "name": "ipython",
    "version": 3
   },
   "file_extension": ".py",
   "mimetype": "text/x-python",
   "name": "python",
   "nbconvert_exporter": "python",
   "pygments_lexer": "ipython3",
   "version": "3.7.10"
  }
 },
 "nbformat": 4,
 "nbformat_minor": 5
}
