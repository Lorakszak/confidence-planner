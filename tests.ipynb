{
 "cells": [
  {
   "cell_type": "markdown",
   "id": "hearing-diversity",
   "metadata": {},
   "source": [
    "# Tests for calculating confidence interval"
   ]
  },
  {
   "cell_type": "code",
   "execution_count": 36,
   "id": "ongoing-enterprise",
   "metadata": {},
   "outputs": [],
   "source": [
    "import scipy.stats as st\n",
    "import math\n",
    "import statsmodels as sm\n",
    "import numpy as np"
   ]
  },
  {
   "cell_type": "markdown",
   "id": "cultural-session",
   "metadata": {},
   "source": [
    "#### Z-test confidence interval\n",
    "\n",
    "upper/lower bound of a confidence interval:<br>\n",
    "X ± Z*(s/√n)<br>\n",
    "X is the mean<br>\n",
    "Z is the value from the standard normal distribution for the selected confidence level<br>\n",
    "s is the standard deviation<br>\n",
    "n is the number of observations<br>\n",
    "\n",
    "A Z-test is any statistical test for which the distribution of the test statistic under the null hypothesis can be approximated by a normal distribution. Z-tests test the mean of a distribution. For each significance level in the confidence interval, the Z-test has a single critical value (for example, 1.96 for 5% two tailed).<br>\n",
    "Z-test can be used when a sample size is big, usually > 30."
   ]
  },
  {
   "cell_type": "code",
   "execution_count": 37,
   "id": "civilian-supplement",
   "metadata": {},
   "outputs": [
    {
     "name": "stdout",
     "output_type": "stream",
     "text": [
      "[48.614096175650324, 51.385903824349676]\n",
      "50\n"
     ]
    }
   ],
   "source": [
    "# Z-Test\n",
    "\n",
    "\n",
    "def ztest(n, mean, std_dev, conf):\n",
    "    '''\n",
    "    This test assumes that data is normally distributed and works well for bigger number of samples (>30).\n",
    "    Function takes number of samples (n), mean value (mean),\n",
    "    standard deviation (std_dev) and confidence (conf).\n",
    "    Returns lower and upper bounds for the confidence interval.\n",
    "    '''\n",
    "    z = st.norm.ppf(1-(1-conf)/2)\n",
    "    upper_bound = mean + z*std_dev/math.sqrt(n)\n",
    "    lower_bound = mean - z*std_dev/math.sqrt(n)\n",
    "    \n",
    "    return [lower_bound, upper_bound]\n",
    "\n",
    "print(ztest(50, 50, 5, 0.95))\n",
    "\n",
    "\n",
    "def reverse_ztest(mean, std_dev, diff, conf):\n",
    "    '''\n",
    "    Function takes mean of data (mean), standard deviation of data (std_dev),\n",
    "    difference from mean to lower/upper bound which is upper_bound-mean or mean-lower_bound (diff)\n",
    "    and confidence (conf).\n",
    "    Returns rounded number of samples which should be taken to obtain a given confidence interval.\n",
    "    '''\n",
    "    z = st.norm.ppf(1-(1-conf)/2)\n",
    "    n = (z*std_dev/(diff))**2\n",
    "    return int(round(n))\n",
    "\n",
    "print(reverse_ztest(50, 5, 1.39, 0.95))\n"
   ]
  },
  {
   "cell_type": "markdown",
   "id": "classified-viewer",
   "metadata": {},
   "source": [
    "#### Z-test with precision\n",
    "upper/lower bound of a confidence interval:<br>\n",
    "X ± 10*Z*√(pr^2/n)<br>\n",
    "X is the mean<br>\n",
    "Z is the value from the standard normal distribution for the selected confidence level<br>\n",
    "pr is the precision; the test assumes the worst possible precision = 0.5<br>\n",
    "n is the number of observations<br>\n",
    "An alternative way to calculate confidence intervals using z-test. When the standard deviation of the data is unknown, one can use this approach. Similarly, a sample size should be big ( > 30)."
   ]
  },
  {
   "cell_type": "code",
   "execution_count": 38,
   "id": "advance-camping",
   "metadata": {},
   "outputs": [
    {
     "name": "stdout",
     "output_type": "stream",
     "text": [
      "[48.614096175650324, 51.385903824349676]\n",
      "50\n"
     ]
    }
   ],
   "source": [
    "# Z-Test precission\n",
    "\n",
    "def ztest_pr(n, mean, conf):\n",
    "    '''\n",
    "    This test assumes that data is normally distributed and works well for bigger number of samples (>30).\n",
    "    Function takes number of samples (n), mean value (mean) and confidence (conf).\n",
    "    Returns lower and upper bounds for the confidence interval.\n",
    "    '''\n",
    "    z = st.norm.ppf(1-(1-conf)/2)\n",
    "    pr = z*math.sqrt(0.25/n)\n",
    "    upper_bound = mean + 10*pr\n",
    "    lower_bound = mean - 10*pr\n",
    "    \n",
    "    return [lower_bound, upper_bound]\n",
    "\n",
    "print(ztest_pr(50, 50, 0.95))\n",
    "\n",
    "\n",
    "def reverse_ztest_pr(mean, diff, conf):\n",
    "    '''\n",
    "    Function takes mean of data (mean), difference from mean to lower/upper bound which is upper_bound-mean \n",
    "    or mean-lower_bound (diff) and confidence (conf).\n",
    "    Returns rounded number of samples which should be taken to obtain a given confidence interval.\n",
    "    '''\n",
    "    z = st.norm.ppf(1-(1-conf)/2)\n",
    "    n = (z*math.sqrt(0.25)/(diff/10))**2\n",
    "    return int(round(n))\n",
    "\n",
    "print(reverse_ztest_pr(50, 1.39, 0.95))"
   ]
  },
  {
   "cell_type": "markdown",
   "id": "peaceful-killing",
   "metadata": {},
   "source": [
    "#### t-test confidence interval\n",
    "\n",
    "upper/lower bound of a confidence interval:<br>\n",
    "X ± t*(s/√n)<br>\n",
    "X is the mean<br>\n",
    "t is the value from the Student's t-distribution for the selected confidence level<br>\n",
    "s is the standard deviation<br>\n",
    "n is the number of observations<br>\n",
    "\n",
    "The t-test is any statistical hypothesis test in which the test statistic follows a Student's t-distribution under the null hypothesis.\n",
    "A t-test is the most commonly applied when the test statistic would follow a normal distribution if the value of a scaling term in the test statistic were known.<br> \n",
    "T-test can be used for a small number of samples ( < 30)."
   ]
  },
  {
   "cell_type": "code",
   "execution_count": 39,
   "id": "qualified-aging",
   "metadata": {},
   "outputs": [
    {
     "data": {
      "text/plain": [
       "[47.69399586496663, 52.30600413503337]"
      ]
     },
     "execution_count": 39,
     "metadata": {},
     "output_type": "execute_result"
    }
   ],
   "source": [
    "# T-test\n",
    "\n",
    "def ttest(n, mean, std_dev, conf):\n",
    "    '''\n",
    "    This test works for smaller number of samples (<30), uses t-distribution instead the normal one.\n",
    "    Function takes number of samples (n), mean value (mean), standard deviation and confidence (conf).\n",
    "    Returns lower and upper bounds for the confidence interval.\n",
    "    '''\n",
    "    t = st.t.ppf(1-(1-conf)/2, n-1)\n",
    "    upper_bound = mean + t*std_dev/math.sqrt(n)\n",
    "    lower_bound = mean - t*std_dev/math.sqrt(n)\n",
    "    \n",
    "    return [lower_bound, upper_bound]\n",
    "\n",
    "ttest(9, 50, 3, 0.95)\n",
    "\n",
    "\n",
    "#def reverse_ttest()"
   ]
  },
  {
   "cell_type": "markdown",
   "id": "entitled-complexity",
   "metadata": {},
   "source": [
    "#### Loose test set bound (Langford)"
   ]
  },
  {
   "cell_type": "code",
   "execution_count": 40,
   "id": "reflected-speech",
   "metadata": {},
   "outputs": [
    {
     "name": "stdout",
     "output_type": "stream",
     "text": [
      "[48.07935441736016, 51.92064558263984]\n",
      "50\n"
     ]
    }
   ],
   "source": [
    "# Loose test set bound Langford\n",
    "\n",
    "def loose_langford(n, mean, conf):\n",
    "    '''\n",
    "    Function takes number of samples (n), mean value (mean) and confidence (conf).\n",
    "    Returns lower and upper bounds for the confidence interval.\n",
    "    '''\n",
    "    pr = math.sqrt(math.log(2/(1-conf))/(n*2))\n",
    "    upper_bound = mean + pr*10\n",
    "    lower_bound = mean - pr*10\n",
    "    return [lower_bound, upper_bound]\n",
    "\n",
    "print(loose_langford(50, 50, 0.95))\n",
    "\n",
    "def loose_langford_reverse(mean, diff, conf):\n",
    "    '''\n",
    "    Function takes mean of data (mean), difference from mean to lower/upper bound which is upper_bound-mean \n",
    "    or mean-lower_bound (diff) and confidence (conf).\n",
    "    Returns rounded number of samples which should be taken to obtain a given confidence interval.\n",
    "    '''\n",
    "    n = math.log(2/(1-conf))/(2*(diff/10)**2)\n",
    "    return int(round(n))\n",
    "\n",
    "print(loose_langford_reverse(50, 1.92, 0.95))"
   ]
  },
  {
   "cell_type": "markdown",
   "id": "promotional-boutique",
   "metadata": {},
   "source": [
    "#### Clopper-Pearson (beta distribution)\n",
    "The Clopper–Pearson interval is an early and very common method for calculating binomial confidence intervals. This is often called an 'exact' method, because it is based on the cumulative probabilities of the binomial distribution (i.e., exactly the correct distribution rather than an approximation). However, in cases where we know the population size, the intervals may not be the smallest possible."
   ]
  },
  {
   "cell_type": "code",
   "execution_count": 41,
   "id": "configured-richmond",
   "metadata": {},
   "outputs": [
    {
     "name": "stdout",
     "output_type": "stream",
     "text": [
      "[48.55272997129908, 51.44727002870092]\n"
     ]
    }
   ],
   "source": [
    "# Clopper-Pearson\n",
    "\n",
    "def clopper_pearson(n, mean, conf):\n",
    "    '''\n",
    "    Function takes number of samples (n), mean value (mean) and confidence (conf).\n",
    "    Returns lower and upper bounds for the confidence interval.\n",
    "    '''\n",
    "    low, high = sm.stats.proportion.proportion_confint(n/2, n, alpha=1-conf, method = \"beta\")\n",
    "    return [mean-(0.5-low)*10, mean+(high-0.5)*10]\n",
    "\n",
    "print(clopper_pearson(50, 50, 0.95))"
   ]
  },
  {
   "cell_type": "markdown",
   "id": "british-offset",
   "metadata": {},
   "source": [
    "#### Wilson score interval\n",
    "The Wilson score interval is an improvement over the normal approximation interval in multiple respects. Unlike the symmetric normal approximation interval, the Wilson score interval is asymmetric. It does not suffer from problems of overshoot and zero-width intervals that afflict the normal interval, and it may be safely employed with small samples and skewed observations.<br>\n",
    "The Wilson interval is derived from the Wilson Score Test, which belongs to a class of tests called Rao Score Tests. It relies on the asymptotic normality of your estimator.\n",
    "Wilson intervals get their assymetry from the underlying likelihood function for the binomial, which is used to compute the \"expected standard error\" and \"score\" (i.e., first derivative of the likelihood function) under the null hypotheisis. Since these values will change as you very your null hypothesis, the interval where the normalized score (score/expected standard error) exceeds your pre-specified Z-cutoff for significance will not be symmetric, in general."
   ]
  },
  {
   "cell_type": "code",
   "execution_count": 42,
   "id": "stunning-keeping",
   "metadata": {},
   "outputs": [
    {
     "name": "stdout",
     "output_type": "stream",
     "text": [
      "[48.664451431682856, 51.335548568317144]\n"
     ]
    }
   ],
   "source": [
    "# Wilson score interval\n",
    "\n",
    "def wilson(n, mean, conf):\n",
    "    '''\n",
    "    Function takes number of samples (n), mean value (mean) and confidence (conf).\n",
    "    Returns lower and upper bounds for the confidence interval.\n",
    "    '''\n",
    "    low, high = sm.stats.proportion.proportion_confint(n/2, n, alpha=1-conf, method = \"wilson\")\n",
    "    return [mean-(0.5-low)*10, mean+(high-0.5)*10]\n",
    "\n",
    "print(wilson(50, 50, 0.95))"
   ]
  },
  {
   "cell_type": "markdown",
   "id": "hindu-cameroon",
   "metadata": {},
   "source": [
    "#### Percentile Bootstrap Method\n",
    "The percentile bootstrap interval is just the interval between the 100*(α/2) and 100*(1−α/2) percentiles of the distribution of θ estimates obtained from resampling, where θ represents a parameter of interest and α is the level of significance (e.g., α = 0.05 for 95% CIs) (Efron, 1982). A bootstrap percentile CI of θˆ (an estimator of θ) can be obtained as follows: (1) B random bootstrap samples are generated, (2) a parameter estimate is calculated from each bootstrap sample, (3) all B bootstrap parameter estimates are ordered from the lowest to highest, and (4) the CI is constructed as follows,<br>\n",
    "\n",
    "$θˆ_{lower limit}$, $θˆ_{upper limit}$ = $θˆ_{j}$, $θˆ_{k}$ <br>\n",
    "\n",
    "where $θˆ_{j}$ denotes the jth quantile (lower limit), and $θˆ_{k}$ denotes the kth quantile (upper limit); j=(α/2)*B, k=(1−α/2)*B. For example, a 95% percentile bootstrap CI with 1,000 bootstrap samples is the interval between the 25th quantile value and the 975th quantile value of the 1,000 bootstrap parameter estimates."
   ]
  },
  {
   "cell_type": "code",
   "execution_count": 43,
   "id": "surprising-debut",
   "metadata": {},
   "outputs": [
    {
     "name": "stdout",
     "output_type": "stream",
     "text": [
      "[48.11387887024648, 51.892874182382016]\n"
     ]
    }
   ],
   "source": [
    "# Percentile bootstrap method\n",
    "\n",
    "def percentile_BM(means, conf):\n",
    "    '''\n",
    "    Function takes list of resamples means obtained from bootstrap (means) and confidence (conf).\n",
    "    Returns lower and upper bounds for the confidence interval.\n",
    "    '''\n",
    "    means.sort()\n",
    "    means = np.array(means)\n",
    "    lower_bound = np.percentile(means, 100*((1-conf)/2))\n",
    "    upper_bound = np.percentile(means, 100*(conf + (1-conf)/2))\n",
    "    return [lower_bound, upper_bound]\n",
    "\n",
    "\n",
    "test_lst = list(np.random.normal(loc = 50, size=1000))\n",
    "print(percentile_BM(test_lst, 0.95))"
   ]
  },
  {
   "cell_type": "markdown",
   "id": "spatial-diesel",
   "metadata": {},
   "source": [
    "#### Standard error method\n",
    "We can only use the standard error rule when the bootstrap distribution is roughly normally shaped.\n",
    "\n",
    "upper/lower bound of a confidence interval:<br>\n",
    "X ± Z*SE<br>\n",
    "X is the mean<br>\n",
    "Z is the value from the standard normal distribution for the selected confidence level<br>\n",
    "SE is the standard error (standard deviation of the resamples means)<br>"
   ]
  },
  {
   "cell_type": "code",
   "execution_count": 44,
   "id": "digital-shopper",
   "metadata": {},
   "outputs": [
    {
     "name": "stdout",
     "output_type": "stream",
     "text": [
      "0.9926650022546512\n",
      "[48.054412346867515, 51.945587653132485]\n"
     ]
    }
   ],
   "source": [
    "# Standard method error\n",
    "\n",
    "def std_method(mean, means, conf):\n",
    "    '''\n",
    "    Function takes mean of the data (mean), list of resamples means obtained from bootstrap (means) and confidence (conf).\n",
    "    Returns lower and upper bounds for the confidence interval.\n",
    "    '''\n",
    "    z = st.norm.ppf(1-(1-conf)/2)\n",
    "    se = np.std(means)\n",
    "    print(se)\n",
    "    lower_bound = mean - z*se\n",
    "    upper_bound = mean + z*se\n",
    "    return [lower_bound, upper_bound]\n",
    "\n",
    "print(std_method(50, test_lst, 0.95))"
   ]
  }
 ],
 "metadata": {
  "kernelspec": {
   "display_name": "Python 3",
   "language": "python",
   "name": "python3"
  },
  "language_info": {
   "codemirror_mode": {
    "name": "ipython",
    "version": 3
   },
   "file_extension": ".py",
   "mimetype": "text/x-python",
   "name": "python",
   "nbconvert_exporter": "python",
   "pygments_lexer": "ipython3",
   "version": "3.7.10"
  }
 },
 "nbformat": 4,
 "nbformat_minor": 5
}
