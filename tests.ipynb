{
 "cells": [
  {
   "cell_type": "markdown",
   "id": "hearing-diversity",
   "metadata": {},
   "source": [
    "# Tests for calculating confidence interval"
   ]
  },
  {
   "cell_type": "markdown",
   "id": "geographic-criminal",
   "metadata": {},
   "source": [
    "### Examplary description\n",
    "The application provides different methods for calculating confidence interval for obtained accuracy from different training techniques. The aim of the confidence interval is to measure the degree of uncertainty or certainty in a sampling method. There are four available options and number of tests to choose from:\n",
    "- holdout\n",
    "    - Z-test -> use when holdout sample size is big (>30) and the distribution of the test statistic can be approximated by a normal distribution\n",
    "    - T-test -> use when holdout sample size is small (<30) and the test statistic follows a normal distribution\n",
    "    - Loose test set bound -> use when you would like to be sure that the obtained interval will be at least of provided confidence, the interval may be much wider than the tighest possible one\n",
    "    - Clopper-Pearson -> use when you would like to be sure that the obtained interval will be at least of provided confidence, so the interval may be wider but not as wide as in the Loose test set bound\n",
    "    - Wilson score -> use to obtain the interval, which on average is precisely for the given confidence; do not use when your accuracy is close to 0 or 1\n",
    "- for bootstrap\n",
    "    - Percentile Bootstrap Method -> use when number of bootstrap resamples is big (at least 100) and you have accuracies from each resample\n",
    "- for Cross-Validation\n",
    "    - cv_interval -> use when you have an accuracy from CV and you know number of samples and number of folds\n",
    "- for Progressive Validation\n",
    "    - prog_val -> use when you have an accuracy from Progressive Validation technique and you know test set size\n",
    "    \n",
    "Moreover, for z-test, t-test and loose test set bound there are reverse tests. With their help, when you know what confidence interval you want to obtain at a given confidence, tests will return number of samples needed for a holdout method.<br>\n",
    "For z-test and loose test set bound, if you know confidence interval and number of holdout samples, you can obtain confidence.<br>\n",
    "\n",
    "### !!!All accuracies in percentage form, e.g. 50% -> 50, all confidences from range (0, 1), e.g. confidence 95% -> 0.95!!!"
   ]
  },
  {
   "cell_type": "code",
   "execution_count": 54,
   "id": "ongoing-enterprise",
   "metadata": {},
   "outputs": [],
   "source": [
    "import scipy.stats as st\n",
    "import math\n",
    "import statsmodels.api\n",
    "import statsmodels as sm\n",
    "import numpy as np"
   ]
  },
  {
   "cell_type": "code",
   "execution_count": 55,
   "id": "together-continent",
   "metadata": {},
   "outputs": [],
   "source": [
    "def min_max(tup):\n",
    "    '''\n",
    "    Function takes tuple with lists with the accuracy confidence interval\n",
    "    and guarantees that the lower bound will be at least 0 and the upper bound will be at most 100.\n",
    "    '''\n",
    "    for i in range(len(tup)):\n",
    "        tup[i][0] = max(0, tup[i][0])\n",
    "        tup[i][1] = min(tup[i][1], 100)\n",
    "    return tup\n",
    "\n",
    "def min_max_conf(conf):\n",
    "    '''\n",
    "    Function takes confidence and guarantees that it will be in the range 0-1\n",
    "    '''\n",
    "    if conf < 0:\n",
    "        conf = 0\n",
    "    if conf > 1:\n",
    "        conf = 1\n",
    "    return conf\n"
   ]
  },
  {
   "cell_type": "markdown",
   "id": "divine-civilization",
   "metadata": {},
   "source": [
    "## Holdout\n",
    "Hold-out is when you split up your dataset into a ‘train’ and ‘test’ set. The training set is what the model is trained on, and the test set is used to see how well that model performs on unseen data. A common split when using the hold-out method is using 80% of data for training and the remaining 20% of the data for testing."
   ]
  },
  {
   "cell_type": "markdown",
   "id": "classified-viewer",
   "metadata": {},
   "source": [
    "#### Z-test\n",
    "A Z-test is any statistical test for which the distribution of the test statistic under the null hypothesis can be approximated by a normal distribution. Z-tests test the mean of a distribution. For each significance level in the confidence interval, the Z-test has a single critical value (for example, 1.96 for 5% two tailed).<br>\n",
    "Z-test can be used when a sample size is big, usually > 30.\n",
    "\n",
    "upper/lower bound of a confidence interval:<br>\n",
    "X ± 100*Z*√(pr^2/n)<br>\n",
    "X is the obtained accuracy<br>\n",
    "Z is the value from the standard normal distribution for the selected confidence level<br>\n",
    "pr is the precision; the test assumes the worst possible precision = 0.5<br>\n",
    "n is the number of observations"
   ]
  },
  {
   "cell_type": "code",
   "execution_count": 56,
   "id": "advance-camping",
   "metadata": {},
   "outputs": [
    {
     "name": "stdout",
     "output_type": "stream",
     "text": [
      "([36.14096175650322, 63.85903824349678], [38.36912846323327, 61.63087153676673], [36.14096175650322, 63.85903824349678], [33.55023642866813, 66.44976357133187], [31.786136322815505, 68.21386367718449])\n",
      "50\n",
      "0.95\n"
     ]
    }
   ],
   "source": [
    "# Z-Test\n",
    "\n",
    "def ztest_pr(n, acc, conf):\n",
    "    '''\n",
    "    This test assumes that data is normally distributed and works well for bigger number of samples (>30).\n",
    "    Function takes number of samples (n), obtained accuracy (acc) and confidence (conf).\n",
    "    Returns confidence interval for the given confidence as well as confidence intervals \n",
    "    for 90%, 95%, 98% and 99% confidences.\n",
    "    '''\n",
    "    \n",
    "    z90 = st.norm.ppf(1-(1-0.9)/2)\n",
    "    pr = z90*math.sqrt(0.25/n)\n",
    "    upper_bound90 = acc + 100*pr\n",
    "    lower_bound90 = acc - 100*pr\n",
    "    int90 = [lower_bound90, upper_bound90]\n",
    "    \n",
    "    z95 = st.norm.ppf(1-(1-0.95)/2)\n",
    "    pr = z95*math.sqrt(0.25/n)\n",
    "    upper_bound95 = acc + 100*pr\n",
    "    lower_bound95 = acc - 100*pr\n",
    "    int95 = [lower_bound95, upper_bound95]\n",
    "    \n",
    "    z98 = st.norm.ppf(1-(1-0.98)/2)\n",
    "    pr = z98*math.sqrt(0.25/n)\n",
    "    upper_bound98 = acc + 100*pr\n",
    "    lower_bound98 = acc - 100*pr\n",
    "    int98 = [lower_bound98, upper_bound98]\n",
    "    \n",
    "    z99 = st.norm.ppf(1-(1-0.99)/2)\n",
    "    pr = z99*math.sqrt(0.25/n)\n",
    "    upper_bound99 = acc + 100*pr\n",
    "    lower_bound99 = acc - 100*pr\n",
    "    int99 = [lower_bound99, upper_bound99]    \n",
    "    \n",
    "    \n",
    "    z = st.norm.ppf(1-(1-conf)/2)\n",
    "    pr = z*math.sqrt(0.25/n)\n",
    "    upper_bound = acc + 100*pr\n",
    "    lower_bound = acc - 100*pr\n",
    "    int_conf = [lower_bound, upper_bound]\n",
    "    \n",
    "    return min_max((int_conf, int90, int95, int98, int99))\n",
    "\n",
    "print(ztest_pr(50, 50, 0.95))\n",
    "\n",
    "\n",
    "def reverse_ztest_pr(diff, conf):\n",
    "    '''\n",
    "    Function takes difference from accuracy to lower/upper bound which is upper_bound-acc \n",
    "    or acc-lower_bound (diff) and confidence (conf).\n",
    "    Returns rounded number of samples which should be taken to obtain a given confidence interval.\n",
    "    '''\n",
    "    z = st.norm.ppf(1-(1-conf)/2)\n",
    "    n = (z*math.sqrt(0.25)/(diff/100))**2\n",
    "    return int(round(n))\n",
    "\n",
    "print(reverse_ztest_pr(13.86, 0.95))\n",
    "\n",
    "\n",
    "def reverse_ztest_pr_conf(diff, n):\n",
    "    '''\n",
    "    Function takes difference from accuracy to lower/upper bound which is upper_bound-acc \n",
    "    or acc-lower_bound (diff) and number of samples (n).\n",
    "    Returns confidence rounded to two decimal places.\n",
    "    '''\n",
    "    z = (math.sqrt(n)*diff)/50\n",
    "    return min_max_conf(round(2*st.norm.cdf(z)-1, 2))\n",
    "    \n",
    "print(reverse_ztest_pr_conf(13.86, 50))\n"
   ]
  },
  {
   "cell_type": "markdown",
   "id": "continued-scientist",
   "metadata": {},
   "source": [
    "#### T-test\n",
    "The t-test is any statistical hypothesis test in which the test statistic follows a Student's t-distribution under the null hypothesis.\n",
    "A t-test is the most commonly applied when the test statistic would follow a normal distribution if the value of a scaling term in the test statistic were known.<br> \n",
    "T-test can be used for a small number of samples ( < 30).\n",
    "\n",
    "upper/lower bound of a confidence interval:<br>\n",
    "X ± 100*t*√(pr^2/n)<br>\n",
    "X is the obtained accuracy<br>\n",
    "t is the value from the Student's t-distribution for the selected confidence level<br>\n",
    "pr is the precision; the test assumes the worst possible precision = 0.5<br>\n",
    "n is the number of observations"
   ]
  },
  {
   "cell_type": "code",
   "execution_count": 57,
   "id": "prospective-convenience",
   "metadata": {},
   "outputs": [
    {
     "name": "stdout",
     "output_type": "stream",
     "text": [
      "([25.90077141666411, 74.09922858333589], [30.10892625548025, 69.89107374451976], [25.90077141666411, 74.09922858333589], [20.72219770130539, 79.27780229869461], [16.982023327484306, 83.01797667251569])\n",
      "0.95\n"
     ]
    }
   ],
   "source": [
    "def ttest_pr(n, acc, conf):\n",
    "    '''\n",
    "    This test works for smaller number of samples (<30), uses t-distribution.\n",
    "    Function takes number of samples (n), obtained accuracy (acc) and confidence (conf).\n",
    "    Returns confidence interval for the given confidence as well as confidence intervals \n",
    "    for 90%, 95%, 98% and 99% confidences.\n",
    "    '''\n",
    "    \n",
    "    t90 = st.t.ppf(1-(1-0.9)/2, n-1)\n",
    "    pr90 = t90*math.sqrt(0.25/n)\n",
    "    upper_bound90 = acc + 100*pr90\n",
    "    lower_bound90 = acc - 100*pr90\n",
    "    int90 = [lower_bound90, upper_bound90]\n",
    "    \n",
    "    t95 = st.t.ppf(1-(1-0.95)/2, n-1)\n",
    "    pr95 = t95*math.sqrt(0.25/n)\n",
    "    upper_bound95 = acc + 100*pr95\n",
    "    lower_bound95 = acc - 100*pr95\n",
    "    int95 = [lower_bound95, upper_bound95]\n",
    "    \n",
    "    t98 = st.t.ppf(1-(1-0.98)/2, n-1)\n",
    "    pr98 = t98*math.sqrt(0.25/n)\n",
    "    upper_bound98 = acc + 100*pr98\n",
    "    lower_bound98 = acc - 100*pr98\n",
    "    int98 = [lower_bound98, upper_bound98]\n",
    "    \n",
    "    t99 = st.t.ppf(1-(1-0.99)/2, n-1)\n",
    "    pr99 = t99*math.sqrt(0.25/n)\n",
    "    upper_bound99 = acc + 100*pr99\n",
    "    lower_bound99 = acc - 100*pr99\n",
    "    int99 = [lower_bound99, upper_bound99]\n",
    "    \n",
    "    \n",
    "    t = st.t.ppf(1-(1-conf)/2, n-1)\n",
    "    pr = t*math.sqrt(0.25/n)\n",
    "    upper_bound = acc + 100*pr\n",
    "    lower_bound = acc - 100*pr\n",
    "    int_conf = [lower_bound, upper_bound]\n",
    "    \n",
    "    return min_max((int_conf, int90, int95, int98, int99))\n",
    "\n",
    "print(ttest_pr(19, 50, 0.95))\n",
    "\n",
    "\n",
    "def reverse_ttest_pr(diff, conf):\n",
    "    '''\n",
    "    Function takes difference from accuracy to lower/upper bound which is upper_bound-acc \n",
    "    or acc-lower_bound (diff) and confidence (conf).\n",
    "    Returns rounded number of samples which should be taken to obtain a given confidence interval.\n",
    "    '''\n",
    "    pass\n",
    "    \n",
    "def reverse_ttest_pr_conf(diff, n):\n",
    "    '''\n",
    "    Function takes difference from accuracy to lower/upper bound which is upper_bound-acc \n",
    "    or acc-lower_bound (diff) and number of samples (n).\n",
    "    Returns confidence rounded to two decimal places.\n",
    "    '''\n",
    "    pr = diff/100\n",
    "    t = pr/math.sqrt(0.25/n)\n",
    "    return min_max_conf(round(2*st.t.cdf(t, n-1)-1, 2))\n",
    "\n",
    "print(reverse_ttest_pr_conf(24.1, 19))"
   ]
  },
  {
   "cell_type": "markdown",
   "id": "entitled-complexity",
   "metadata": {},
   "source": [
    "#### Loose test set bound (Langford)\n",
    "\n",
    "upper/lower bound of a confidence interval:<br>\n",
    "X ± 100*√(ln(2/(1-conf))/2/n)<br>\n",
    "X is the obtained accuracy<br>\n",
    "conf is the given confidence<br>\n",
    "n is the number of samples"
   ]
  },
  {
   "cell_type": "code",
   "execution_count": 58,
   "id": "reflected-speech",
   "metadata": {},
   "outputs": [
    {
     "name": "stdout",
     "output_type": "stream",
     "text": [
      "([30.79354417360159, 69.20645582639841], [32.691816173977145, 67.30818382602286], [30.79354417360159, 69.20645582639841], [28.540339737106528, 71.45966026289346], [26.981925869986352, 73.01807413001364])\n",
      "50\n",
      "0.95\n"
     ]
    }
   ],
   "source": [
    "# Loose test set bound Langford\n",
    "\n",
    "def loose_langford(n, acc, conf):\n",
    "    '''\n",
    "    Function takes number of samples (n), obtained accuracy (acc) and confidence (conf).\n",
    "    Returns confidence interval for the given confidence as well as confidence intervals \n",
    "    for 90%, 95%, 98% and 99% confidences.\n",
    "    '''\n",
    "    \n",
    "    pr90 = math.sqrt(math.log(2/(1-0.90))/(n*2))\n",
    "    upper_bound90 = acc + pr90*100\n",
    "    lower_bound90 = acc - pr90*100\n",
    "    int90 = [lower_bound90, upper_bound90]\n",
    "    \n",
    "    pr95 = math.sqrt(math.log(2/(1-0.95))/(n*2))\n",
    "    upper_bound95 = acc + pr95*100\n",
    "    lower_bound95 = acc - pr95*100\n",
    "    int95 = [lower_bound95, upper_bound95]\n",
    "    \n",
    "    pr98 = math.sqrt(math.log(2/(1-0.98))/(n*2))\n",
    "    upper_bound98 = acc + pr98*100\n",
    "    lower_bound98 = acc - pr98*100\n",
    "    int98 = [lower_bound98, upper_bound98]\n",
    "    \n",
    "    pr99 = math.sqrt(math.log(2/(1-0.99))/(n*2))\n",
    "    upper_bound99 = acc + pr99*100\n",
    "    lower_bound99 = acc - pr99*100\n",
    "    int99 = [lower_bound99, upper_bound99]\n",
    "    \n",
    "    \n",
    "    pr = math.sqrt(math.log(2/(1-conf))/(n*2))\n",
    "    upper_bound = acc + pr*100\n",
    "    lower_bound = acc - pr*100\n",
    "    int_conf = [lower_bound, upper_bound]\n",
    "    return min_max((int_conf, int90, int95, int98, int99))\n",
    "\n",
    "print(loose_langford(50, 50, 0.95))\n",
    "\n",
    "def loose_langford_reverse(diff, conf):\n",
    "    '''\n",
    "    Function takes difference from accuracy to lower/upper bound which is upper_bound-acc \n",
    "    or acc-lower_bound (diff) and confidence (conf).\n",
    "    Returns rounded number of samples which should be taken to obtain a given confidence interval.\n",
    "    '''\n",
    "    n = math.log(2/(1-conf))/(2*(diff/100)**2)\n",
    "    return int(round(n))\n",
    "\n",
    "print(loose_langford_reverse(19.2, 0.95))\n",
    "\n",
    "\n",
    "def loose_langford_conf(diff, n):\n",
    "    '''\n",
    "    Function takes difference from accuracy to lower/upper bound which is upper_bound-acc \n",
    "    or acc-lower_bound (diff) and number of samples (n).\n",
    "    Returns confidence rounded to two decimal places.\n",
    "    '''\n",
    "    pr = diff/100\n",
    "    pr2 = (diff/100)**2\n",
    "    expnt = math.exp(2*n*pr2)\n",
    "    conf = 1 - 2/expnt\n",
    "    return min_max_conf(round(conf, 2))\n",
    "\n",
    "print(loose_langford_conf(19.2, 50))"
   ]
  },
  {
   "cell_type": "markdown",
   "id": "promotional-boutique",
   "metadata": {},
   "source": [
    "#### Clopper-Pearson (beta distribution)\n",
    "The Clopper–Pearson interval is an early and very common method for calculating binomial confidence intervals. This is often called an 'exact' method, because it is based on the cumulative probabilities of the binomial distribution (i.e., exactly the correct distribution rather than an approximation). However, in cases where we know the population size, the intervals may not be the smallest possible.<br>\n",
    "This method always ensures that the actual confidence level is greater than the level you requested. On average, therefore, these intervals have a greater confidence level than you requested so are wider than they need to be."
   ]
  },
  {
   "cell_type": "code",
   "execution_count": 59,
   "id": "configured-richmond",
   "metadata": {},
   "outputs": [
    {
     "name": "stdout",
     "output_type": "stream",
     "text": [
      "([35.52729971299077, 64.47270028700923], [37.62458912093206, 62.37541087906795], [35.52729971299077, 64.47270028700923], [33.14047055734348, 66.85952944265651], [31.551042112981055, 68.44895788701895])\n"
     ]
    }
   ],
   "source": [
    "# Clopper-Pearson\n",
    "\n",
    "def clopper_pearson(n, acc, conf):\n",
    "    '''\n",
    "    Function takes number of samples (n), obtained accuracy (acc) and confidence (conf).\n",
    "    Returns confidence interval for the given confidence as well as confidence intervals \n",
    "    for 90%, 95%, 98% and 99% confidences.\n",
    "    '''\n",
    "    \n",
    "    low90, high90 = sm.stats.proportion.proportion_confint(n/2, n, alpha=1-0.90, method = \"beta\")\n",
    "    int90 = [acc-(0.5-low90)*100, acc+(high90-0.5)*100]\n",
    "    \n",
    "    low95, high95 = sm.stats.proportion.proportion_confint(n/2, n, alpha=1-0.95, method = \"beta\")\n",
    "    int95 = [acc-(0.5-low95)*100, acc+(high95-0.5)*100]\n",
    "    \n",
    "    low98, high98 = sm.stats.proportion.proportion_confint(n/2, n, alpha=1-0.98, method = \"beta\")\n",
    "    int98 = [acc-(0.5-low98)*100, acc+(high98-0.5)*100]\n",
    "    \n",
    "    low99, high99 = sm.stats.proportion.proportion_confint(n/2, n, alpha=1-0.99, method = \"beta\")\n",
    "    int99 = [acc-(0.5-low99)*100, acc+(high99-0.5)*100]\n",
    "    \n",
    "    \n",
    "    low, high = sm.stats.proportion.proportion_confint(n/2, n, alpha=1-conf, method = \"beta\")\n",
    "    int_conf = [acc-(0.5-low)*100, acc+(high-0.5)*100]\n",
    "    return min_max((int_conf, int90, int95, int98, int99))\n",
    "\n",
    "print(clopper_pearson(50, 50, 0.95))"
   ]
  },
  {
   "cell_type": "markdown",
   "id": "british-offset",
   "metadata": {},
   "source": [
    "#### Wilson score interval\n",
    "The Wilson score interval is an improvement over the normal approximation interval in multiple respects. Unlike the symmetric normal approximation interval, the Wilson score interval is asymmetric. It does not suffer from problems of overshoot and zero-width intervals that afflict the normal interval, and it may be safely employed with small samples and skewed observations.<br>\n",
    "The Wilson interval is derived from the Wilson Score Test, which belongs to a class of tests called Rao Score Tests. It relies on the asymptotic normality of your estimator.\n",
    "Wilson intervals get their assymetry from the underlying likelihood function for the binomial, which is used to compute the \"expected standard error\" and \"score\" (i.e., first derivative of the likelihood function) under the null hypotheisis. Since these values will change as you very your null hypothesis, the interval where the normalized score (score/expected standard error) exceeds your pre-specified Z-cutoff for significance will not be symmetric, in general.<br>\n",
    "With some data the actual confidence level is greater than what you requested, and for some data the actual confidence level is less. On the average, the actual confidence level equals the confidence level you requested.  Wilson's method is great except when the probability is very close to 0 or 1."
   ]
  },
  {
   "cell_type": "code",
   "execution_count": 60,
   "id": "stunning-keeping",
   "metadata": {},
   "outputs": [
    {
     "name": "stdout",
     "output_type": "stream",
     "text": [
      "([36.64451431682858, 63.35548568317142], [38.67158596865053, 61.32841403134947], [36.64451431682858, 63.35548568317142], [34.37416754311647, 65.62583245688353], [32.88625612865292, 67.11374387134708])\n"
     ]
    }
   ],
   "source": [
    "# Wilson score interval\n",
    "\n",
    "def wilson(n, acc, conf):\n",
    "    '''\n",
    "    Function takes number of samples (n), obtained accuracy (acc) and confidence (conf).\n",
    "    Returns confidence interval for the given confidence as well as confidence intervals \n",
    "    for 90%, 95%, 98% and 99% confidences.\n",
    "    '''\n",
    "    \n",
    "    low90, high90 = sm.stats.proportion.proportion_confint(n/2, n, alpha=1-0.90, method = \"wilson\")\n",
    "    int90 = [acc-(0.5-low90)*100, acc+(high90-0.5)*100]\n",
    "    \n",
    "    low95, high95 = sm.stats.proportion.proportion_confint(n/2, n, alpha=1-0.95, method = \"wilson\")\n",
    "    int95 = [acc-(0.5-low95)*100, acc+(high95-0.5)*100]\n",
    "    \n",
    "    low98, high98 = sm.stats.proportion.proportion_confint(n/2, n, alpha=1-0.98, method = \"wilson\")\n",
    "    int98 = [acc-(0.5-low98)*100, acc+(high98-0.5)*100]\n",
    "    \n",
    "    low99, high99 = sm.stats.proportion.proportion_confint(n/2, n, alpha=1-0.99, method = \"wilson\")\n",
    "    int99 = [acc-(0.5-low99)*100, acc+(high99-0.5)*100]\n",
    "    \n",
    "    \n",
    "    low, high = sm.stats.proportion.proportion_confint(n/2, n, alpha=1-conf, method = \"wilson\")\n",
    "    int_conf = [acc-(0.5-low)*100, acc+(high-0.5)*100]\n",
    "    return min_max((int_conf, int90, int95, int98, int99))\n",
    "\n",
    "print(wilson(50, 50, 0.95))"
   ]
  },
  {
   "cell_type": "markdown",
   "id": "sought-business",
   "metadata": {},
   "source": [
    "## Bootstrap\n",
    "Bootstrap is a resampling method by independently sampling with replacement from an existing sample data with same sample size n, and performing inference among these resampled data."
   ]
  },
  {
   "cell_type": "markdown",
   "id": "hindu-cameroon",
   "metadata": {},
   "source": [
    "#### Percentile Bootstrap Method\n",
    "The percentile bootstrap interval is just the interval between the 100*(α/2) and 100*(1−α/2) percentiles of the distribution of θ estimates obtained from resampling, where θ represents a parameter of interest and α is the level of significance (e.g., α = 0.05 for 95% CIs) (Efron, 1982). A bootstrap percentile CI of θˆ (an estimator of θ) can be obtained as follows: (1) B random bootstrap samples are generated, (2) a parameter estimate is calculated from each bootstrap sample, (3) all B bootstrap parameter estimates are ordered from the lowest to highest, and (4) the CI is constructed as follows,<br>\n",
    "\n",
    "$θˆ_{lower limit}$, $θˆ_{upper limit}$ = $θˆ_{j}$, $θˆ_{k}$ <br>\n",
    "\n",
    "where $θˆ_{j}$ denotes the jth quantile (lower limit), and $θˆ_{k}$ denotes the kth quantile (upper limit); j=(α/2)*B, k=(1−α/2)*B. For example, a 95% percentile bootstrap CI with 1,000 bootstrap samples is the interval between the 25th quantile value and the 975th quantile value of the 1,000 bootstrap parameter estimates."
   ]
  },
  {
   "cell_type": "code",
   "execution_count": 61,
   "id": "surprising-debut",
   "metadata": {},
   "outputs": [
    {
     "name": "stdout",
     "output_type": "stream",
     "text": [
      "([48.00531606929037, 52.0608579092977], [48.39361466952944, 51.77556333553827], [48.00531606929037, 52.0608579092977], [47.611142543775216, 52.36574533588392], [47.36101440336795, 52.50510421197957])\n"
     ]
    }
   ],
   "source": [
    "# Percentile bootstrap method\n",
    "\n",
    "def percentile_BM(accs, conf):\n",
    "    '''\n",
    "    Function takes list of resamples accuracies obtained from bootstrap method(accs) and confidence (conf).\n",
    "    Returns confidence interval for the given confidence as well as confidence intervals \n",
    "    for 90%, 95%, 98% and 99% confidences.\n",
    "    '''\n",
    "    accs.sort()\n",
    "    accs = np.array(accs)\n",
    "    \n",
    "    lower_bound90 = np.percentile(accs, 100*((1-0.9)/2))\n",
    "    upper_bound90 = np.percentile(accs, 100*(0.9 + (1-0.9)/2))\n",
    "    int90 = [lower_bound90, upper_bound90]\n",
    "    \n",
    "    lower_bound95 = np.percentile(accs, 100*((1-0.95)/2))\n",
    "    upper_bound95 = np.percentile(accs, 100*(0.95 + (1-0.95)/2))\n",
    "    int95 = [lower_bound95, upper_bound95]\n",
    "    \n",
    "    lower_bound98 = np.percentile(accs, 100*((1-0.98)/2))\n",
    "    upper_bound98 = np.percentile(accs, 100*(0.98 + (1-0.98)/2))\n",
    "    int98 = [lower_bound98, upper_bound98]\n",
    "    \n",
    "    lower_bound99 = np.percentile(accs, 100*((1-0.99)/2))\n",
    "    upper_bound99 = np.percentile(accs, 100*(0.99 + (1-0.99)/2))\n",
    "    int99 = [lower_bound99, upper_bound99]\n",
    "    \n",
    "    \n",
    "    lower_bound = np.percentile(accs, 100*((1-conf)/2))\n",
    "    upper_bound = np.percentile(accs, 100*(conf + (1-conf)/2))\n",
    "    int_conf = [lower_bound, upper_bound]\n",
    "    return min_max((int_conf, int90, int95, int98, int99))\n",
    "\n",
    "\n",
    "test_lst = list(np.random.normal(loc = 50, size=1000))\n",
    "print(percentile_BM(test_lst, 0.95))"
   ]
  },
  {
   "cell_type": "markdown",
   "id": "scientific-scroll",
   "metadata": {},
   "source": [
    "## CV\n",
    "Cross-validation or ‘k-fold cross-validation’ is when the dataset is randomly split up into ‘k’ groups. One of the groups is used as the test set and the rest are used as the training set. The model is trained on the training set and scored on the test set. Then the process is repeated until each unique group as been used as the test set.\n",
    "For example, for 5-fold cross validation, the dataset would be split into 5 groups, and the model would be trained and tested 5 separate times so each group would get a chance to be the test set."
   ]
  },
  {
   "cell_type": "markdown",
   "id": "failing-oxide",
   "metadata": {},
   "source": [
    "upper/lower bound of a confidence interval:<br>\n",
    "X ± √(-ln((1-conf)/2)*k/2/n)<br>\n",
    "X is the obtained accuracy<br>\n",
    "conf is the selected confidence level<br>\n",
    "n is the number of all samples<br>\n",
    "k is the number of folds"
   ]
  },
  {
   "cell_type": "code",
   "execution_count": 62,
   "id": "norman-thought",
   "metadata": {},
   "outputs": [
    {
     "name": "stdout",
     "output_type": "stream",
     "text": [
      "([36.41898484259381, 63.58101515740619], [37.76126584659592, 62.23873415340408], [36.41898484259381, 63.58101515740619], [34.82572870614854, 65.17427129385146], [33.72376369281271, 66.27623630718729])\n"
     ]
    }
   ],
   "source": [
    "# Interval for Cross Validation\n",
    "\n",
    "def cv_interval(n, k, acc, conf):\n",
    "    '''\n",
    "    Function takes number of samples (n), number of folds(k), obtained accuracy (acc) and confidence (conf).\n",
    "    Returns confidence interval for the given confidence as well as confidence intervals \n",
    "    for 90%, 95%, 98% and 99% confidences.\n",
    "    '''\n",
    "    \n",
    "    x90 = math.log((1-0.9)/2)*k/2/n\n",
    "    t90 = math.sqrt(-x90)\n",
    "    lower_bound90 = acc-t90*100\n",
    "    upper_bound90 = acc+t90*100\n",
    "    int90 = [lower_bound90, upper_bound90]\n",
    "    \n",
    "    x95 = math.log((1-0.95)/2)*k/2/n\n",
    "    t95 = math.sqrt(-x95)\n",
    "    lower_bound95 = acc-t95*100\n",
    "    upper_bound95 = acc+t95*100\n",
    "    int95 = [lower_bound95, upper_bound95]\n",
    "    \n",
    "    x98 = math.log((1-0.98)/2)*k/2/n\n",
    "    t98 = math.sqrt(-x98)\n",
    "    lower_bound98 = acc-t98*100\n",
    "    upper_bound98 = acc+t98*100\n",
    "    int98 = [lower_bound98, upper_bound98]\n",
    "    \n",
    "    x99 = math.log((1-0.99)/2)*k/2/n\n",
    "    t99 = math.sqrt(-x99)\n",
    "    lower_bound99 = acc-t99*100\n",
    "    upper_bound99 = acc+t99*100\n",
    "    int99 = [lower_bound99, upper_bound99]\n",
    "    \n",
    "    \n",
    "    x = math.log((1-conf)/2)*k/2/n\n",
    "    t = math.sqrt(-x)\n",
    "    lower_bound = acc-t*100\n",
    "    upper_bound = acc+t*100\n",
    "    int_conf = [lower_bound, upper_bound]\n",
    "    \n",
    "    return min_max((int_conf, int90, int95, int98, int99))\n",
    "\n",
    "print(cv_interval(1000, 10, 50, 0.95))"
   ]
  },
  {
   "cell_type": "markdown",
   "id": "choice-serum",
   "metadata": {},
   "source": [
    "## Progressive Validation\n",
    "Suppose that you have a training set of size mtrain and test set of size mpv. Progressive validation starts by first learning a hypothesis on the training set and then testing on the first example of the test set. Then, we train on training set plus the first example of the test set and test on the second example of the test set. The process continues mtest iterations. Progressive Validation technique is used in data streams."
   ]
  },
  {
   "cell_type": "markdown",
   "id": "fancy-contents",
   "metadata": {},
   "source": [
    "upper/lower bound of a confidence interval:<br>\n",
    "X ± √(-ln((1-conf)/2)/2/s)<br>\n",
    "X is the obtained accuracy<br>\n",
    "conf is the selected confidence level<br>\n",
    "s is the number of samples in the test set"
   ]
  },
  {
   "cell_type": "code",
   "execution_count": 63,
   "id": "realistic-treat",
   "metadata": {},
   "outputs": [
    {
     "name": "stdout",
     "output_type": "stream",
     "text": [
      "([36.41898484259381, 63.58101515740619], [37.76126584659592, 62.23873415340408], [36.41898484259381, 63.58101515740619], [34.82572870614854, 65.17427129385146], [33.72376369281271, 66.27623630718729])\n"
     ]
    }
   ],
   "source": [
    "# Interval for Progressive Validation\n",
    "\n",
    "def prog_val(s, acc, conf):\n",
    "    '''\n",
    "    Function takes number of samples from a test set (s), obtained accuracy (acc) and confidence (conf).\n",
    "    Returns confidence interval for the given confidence as well as confidence intervals \n",
    "    for 90%, 95%, 98% and 99% confidences.\n",
    "    '''\n",
    "    \n",
    "    x90 = math.log((1-0.9)/2)/2/s\n",
    "    t90 = math.sqrt(-x90)\n",
    "    lower_bound90 = acc-t90*100\n",
    "    upper_bound90 = acc+t90*100\n",
    "    int90 = [lower_bound90, upper_bound90]\n",
    "    \n",
    "    x95 = math.log((1-0.95)/2)/2/s\n",
    "    t95 = math.sqrt(-x95)\n",
    "    lower_bound95 = acc-t95*100\n",
    "    upper_bound95 = acc+t95*100\n",
    "    int95 = [lower_bound95, upper_bound95]\n",
    "    \n",
    "    x98 = math.log((1-0.98)/2)/2/s\n",
    "    t98 = math.sqrt(-x98)\n",
    "    lower_bound98 = acc-t98*100\n",
    "    upper_bound98 = acc+t98*100\n",
    "    int98 = [lower_bound98, upper_bound98]\n",
    "    \n",
    "    x99 = math.log((1-0.99)/2)/2/s\n",
    "    t99 = math.sqrt(-x99)\n",
    "    lower_bound99 = acc-t99*100\n",
    "    upper_bound99 = acc+t99*100\n",
    "    int99 = [lower_bound99, upper_bound99]\n",
    "    \n",
    "    \n",
    "    x = math.log((1-conf)/2)/2/s\n",
    "    t = math.sqrt(-x)\n",
    "    lower_bound = acc-t*100\n",
    "    upper_bound = acc+t*100\n",
    "    int_conf = [lower_bound, upper_bound]\n",
    "    \n",
    "    return min_max((int_conf, int90, int95, int98, int99))\n",
    "\n",
    "print(prog_val(100, 50, 0.95))"
   ]
  },
  {
   "cell_type": "markdown",
   "id": "prescribed-negotiation",
   "metadata": {},
   "source": [
    "## !!!Tests which will not be used in a dashboard!!!"
   ]
  },
  {
   "cell_type": "markdown",
   "id": "cultural-session",
   "metadata": {},
   "source": [
    "#### Z-test confidence interval\n",
    "\n",
    "upper/lower bound of a confidence interval:<br>\n",
    "X ± Z*(s/√n)<br>\n",
    "X is the obtained accuracy<br>\n",
    "Z is the value from the standard normal distribution for the selected confidence level<br>\n",
    "s is the standard deviation<br>\n",
    "n is the number of observations<br>\n",
    "\n",
    "A Z-test is any statistical test for which the distribution of the test statistic under the null hypothesis can be approximated by a normal distribution. Z-tests test the mean of a distribution. For each significance level in the confidence interval, the Z-test has a single critical value (for example, 1.96 for 5% two tailed).<br>\n",
    "Z-test can be used when a sample size is big, usually > 30."
   ]
  },
  {
   "cell_type": "code",
   "execution_count": 64,
   "id": "civilian-supplement",
   "metadata": {},
   "outputs": [
    {
     "name": "stdout",
     "output_type": "stream",
     "text": [
      "([46.39665005669084, 53.60334994330916], [46.97597340044065, 53.02402659955935], [46.39665005669084, 53.60334994330916], [45.72306147145372, 54.27693852854628], [45.26439544393203, 54.73560455606797])\n",
      "50\n"
     ]
    }
   ],
   "source": [
    "# Z-Test\n",
    "\n",
    "\n",
    "def ztest(n, acc, std_dev, conf):\n",
    "    '''\n",
    "    This test assumes that data is normally distributed and works well for bigger number of samples (>30).\n",
    "    Function takes number of samples (n), obtained accuracy (acc),\n",
    "    standard deviation (std_dev) and confidence (conf).\n",
    "    Returns confidence interval for the given confidence as well as confidence intervals \n",
    "    for 90%, 95%, 98% and 99% confidences.\n",
    "    '''\n",
    "    \n",
    "    z90 = st.norm.ppf(1-(1-0.9)/2)\n",
    "    upper_bound90 = acc + z90*std_dev/math.sqrt(n)\n",
    "    lower_bound90 = acc - z90*std_dev/math.sqrt(n)\n",
    "    int90 = [lower_bound90, upper_bound90]\n",
    "    \n",
    "    z95 = st.norm.ppf(1-(1-0.95)/2)\n",
    "    upper_bound95 = acc + z95*std_dev/math.sqrt(n)\n",
    "    lower_bound95 = acc - z95*std_dev/math.sqrt(n)\n",
    "    int95 = [lower_bound95, upper_bound95]\n",
    "    \n",
    "    z98 = st.norm.ppf(1-(1-0.98)/2)\n",
    "    upper_bound98 = acc + z98*std_dev/math.sqrt(n)\n",
    "    lower_bound98 = acc - z98*std_dev/math.sqrt(n)\n",
    "    int98 = [lower_bound98, upper_bound98]\n",
    "    \n",
    "    z99 = st.norm.ppf(1-(1-0.99)/2)\n",
    "    upper_bound99 = acc + z99*std_dev/math.sqrt(n)\n",
    "    lower_bound99 = acc - z99*std_dev/math.sqrt(n)\n",
    "    int99 = [lower_bound99, upper_bound99]\n",
    "    \n",
    "    \n",
    "    z = st.norm.ppf(1-(1-conf)/2)\n",
    "    upper_bound = acc + z*std_dev/math.sqrt(n)\n",
    "    lower_bound = acc - z*std_dev/math.sqrt(n)\n",
    "    int_conf = [lower_bound, upper_bound]\n",
    "    \n",
    "    return min_max((int_conf, int90, int95, int98, int99))\n",
    "\n",
    "\n",
    "print(ztest(50, 50, 13, 0.95))\n",
    "\n",
    "\n",
    "def reverse_ztest(std_dev, diff, conf):\n",
    "    \n",
    "    z = st.norm.ppf(1-(1-conf)/2)\n",
    "    n = (z*std_dev/(diff))**2\n",
    "    \n",
    "    return int(round(n))\n",
    "\n",
    "print(reverse_ztest(5, 1.39, 0.95))\n"
   ]
  },
  {
   "cell_type": "markdown",
   "id": "peaceful-killing",
   "metadata": {},
   "source": [
    "#### t-test confidence interval\n",
    "\n",
    "upper/lower bound of a confidence interval:<br>\n",
    "X ± t*(s/√n)<br>\n",
    "X is the obtained accuracy<br>\n",
    "t is the value from the Student's t-distribution for the selected confidence level<br>\n",
    "s is the standard deviation<br>\n",
    "n is the number of observations<br>\n",
    "\n",
    "The t-test is any statistical hypothesis test in which the test statistic follows a Student's t-distribution under the null hypothesis.\n",
    "A t-test is the most commonly applied when the test statistic would follow a normal distribution if the value of a scaling term in the test statistic were known.<br> \n",
    "T-test can be used for a small number of samples ( < 30)."
   ]
  },
  {
   "cell_type": "code",
   "execution_count": 65,
   "id": "qualified-aging",
   "metadata": {},
   "outputs": [
    {
     "name": "stdout",
     "output_type": "stream",
     "text": [
      "([47.69399586496663, 52.30600413503337], [48.14045196247716, 51.85954803752284], [47.69399586496663, 52.30600413503337], [47.10354055723948, 52.89645944276052], [46.6446126686666, 53.3553873313334])\n"
     ]
    }
   ],
   "source": [
    "# T-test\n",
    "\n",
    "def ttest(n, acc, std_dev, conf):\n",
    "    '''\n",
    "    This test works for smaller number of samples (<30), uses t-distribution instead the gaussian.\n",
    "    Function takes number of samples (n), obtained accuracy (acc), standard deviation (std_dev) and confidence (conf).\n",
    "    Returns confidence interval for the given confidence as well as confidence intervals \n",
    "    for 90%, 95%, 98% and 99% confidences.\n",
    "    '''\n",
    "    \n",
    "    t90 = st.t.ppf(1-(1-0.9)/2, n-1)\n",
    "    upper_bound90 = acc + t90*std_dev/math.sqrt(n)\n",
    "    lower_bound90 = acc - t90*std_dev/math.sqrt(n)\n",
    "    int90 = [lower_bound90, upper_bound90]\n",
    "    \n",
    "    t95 = st.t.ppf(1-(1-0.95)/2, n-1)\n",
    "    upper_bound95 = acc + t95*std_dev/math.sqrt(n)\n",
    "    lower_bound95 = acc - t95*std_dev/math.sqrt(n)\n",
    "    int95 = [lower_bound95, upper_bound95]\n",
    "    \n",
    "    t98 = st.t.ppf(1-(1-0.98)/2, n-1)\n",
    "    upper_bound98 = acc + t98*std_dev/math.sqrt(n)\n",
    "    lower_bound98 = acc - t98*std_dev/math.sqrt(n)\n",
    "    int98 = [lower_bound98, upper_bound98]\n",
    "    \n",
    "    t99 = st.t.ppf(1-(1-0.99)/2, n-1)\n",
    "    upper_bound99 = acc + t99*std_dev/math.sqrt(n)\n",
    "    lower_bound99 = acc - t99*std_dev/math.sqrt(n)\n",
    "    int99 = [lower_bound99, upper_bound99]\n",
    "    \n",
    "    \n",
    "    t = st.t.ppf(1-(1-conf)/2, n-1)\n",
    "    upper_bound = acc + t*std_dev/math.sqrt(n)\n",
    "    lower_bound = acc - t*std_dev/math.sqrt(n)\n",
    "    int_conf = [lower_bound, upper_bound]\n",
    "    \n",
    "    return min_max((int_conf, int90, int95, int98, int99))\n",
    "\n",
    "print(ttest(9, 50, 3, 0.95))\n",
    "\n",
    "#def reverse_ttest()"
   ]
  },
  {
   "cell_type": "markdown",
   "id": "spatial-diesel",
   "metadata": {},
   "source": [
    "#### Standard error method\n",
    "We can only use the standard error rule when the bootstrap distribution is roughly normally shaped.\n",
    "\n",
    "upper/lower bound of a confidence interval:<br>\n",
    "X ± Z*SE<br>\n",
    "X is the obtained accuracy<br>\n",
    "Z is the value from the standard normal distribution for the selected confidence level<br>\n",
    "SE is the standard error (standard deviation of the resamples accuracies)<br>"
   ]
  },
  {
   "cell_type": "code",
   "execution_count": 66,
   "id": "digital-shopper",
   "metadata": {},
   "outputs": [
    {
     "name": "stdout",
     "output_type": "stream",
     "text": [
      "([47.980637472921984, 52.019362527078016], [48.30529754475379, 51.69470245524621], [47.980637472921984, 52.019362527078016], [47.60314997681546, 52.39685002318454], [47.346107779140254, 52.653892220859746])\n"
     ]
    }
   ],
   "source": [
    "# Standard method error\n",
    "\n",
    "def std_method(acc, accs, conf):\n",
    "    '''\n",
    "    Function takes obtained accuracy (acc), list of resamples accuracies obtained from bootstrap method(accs) \n",
    "    and confidence (conf). Returns confidence interval for the given confidence \n",
    "    as well as confidence intervals for 90%, 95%, 98% and 99% confidences.\n",
    "    '''\n",
    "    \n",
    "    z90 = st.norm.ppf(1-(1-0.9)/2)\n",
    "    se90 = np.std(accs)\n",
    "    lower_bound90 = acc - z90*se90\n",
    "    upper_bound90 = acc + z90*se90\n",
    "    int90 = [lower_bound90, upper_bound90]\n",
    "    \n",
    "    z95 = st.norm.ppf(1-(1-0.95)/2)\n",
    "    se95 = np.std(accs)\n",
    "    lower_bound95 = acc - z95*se95\n",
    "    upper_bound95 = acc + z95*se95\n",
    "    int95 = [lower_bound95, upper_bound95]\n",
    "    \n",
    "    z98 = st.norm.ppf(1-(1-0.98)/2)\n",
    "    se98 = np.std(accs)\n",
    "    lower_bound98 = acc - z98*se98\n",
    "    upper_bound98 = acc + z98*se98\n",
    "    int98 = [lower_bound98, upper_bound98]\n",
    "    \n",
    "    z99 = st.norm.ppf(1-(1-0.99)/2)\n",
    "    se99 = np.std(accs)\n",
    "    lower_bound99 = acc - z99*se99\n",
    "    upper_bound99 = acc + z99*se99\n",
    "    int99 = [lower_bound99, upper_bound99]\n",
    "    \n",
    "    \n",
    "    z = st.norm.ppf(1-(1-conf)/2)\n",
    "    se = np.std(accs)\n",
    "    lower_bound = acc - z*se\n",
    "    upper_bound = acc + z*se\n",
    "    int_conf = [lower_bound, upper_bound]\n",
    "    return min_max((int_conf, int90, int95, int98, int99))\n",
    "\n",
    "print(std_method(50, test_lst, 0.95))"
   ]
  }
 ],
 "metadata": {
  "kernelspec": {
   "display_name": "Python 3",
   "language": "python",
   "name": "python3"
  },
  "language_info": {
   "codemirror_mode": {
    "name": "ipython",
    "version": 3
   },
   "file_extension": ".py",
   "mimetype": "text/x-python",
   "name": "python",
   "nbconvert_exporter": "python",
   "pygments_lexer": "ipython3",
   "version": "3.7.10"
  }
 },
 "nbformat": 4,
 "nbformat_minor": 5
}
