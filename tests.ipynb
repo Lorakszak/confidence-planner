{
 "cells": [
  {
   "cell_type": "markdown",
   "id": "hearing-diversity",
   "metadata": {},
   "source": [
    "# Tests for calculating confidence interval"
   ]
  },
  {
   "cell_type": "code",
   "execution_count": 58,
   "id": "ongoing-enterprise",
   "metadata": {},
   "outputs": [],
   "source": [
    "import scipy.stats as st\n",
    "import math\n",
    "import statsmodels as sm\n"
   ]
  },
  {
   "cell_type": "markdown",
   "id": "cultural-session",
   "metadata": {},
   "source": [
    "#### Z-test confidence interval\n",
    "\n",
    "upper/lower bound of a confidence interval:<br>\n",
    "X ± Z*(s/√n)<br>\n",
    "X is the mean<br>\n",
    "Z is the value from the standard normal distribution for the selected confidence level<br>\n",
    "s is the standard deviation<br>\n",
    "n is the number of observations<br>\n",
    "\n",
    "A Z-test is any statistical test for which the distribution of the test statistic under the null hypothesis can be approximated by a normal distribution. Z-tests test the mean of a distribution. For each significance level in the confidence interval, the Z-test has a single critical value (for example, 1.96 for 5% two tailed)."
   ]
  },
  {
   "cell_type": "code",
   "execution_count": 59,
   "id": "civilian-supplement",
   "metadata": {},
   "outputs": [
    {
     "name": "stdout",
     "output_type": "stream",
     "text": [
      "[49.02001800772997, 50.97998199227003]\n",
      "50\n"
     ]
    }
   ],
   "source": [
    "# Z-Test\n",
    "\n",
    "\n",
    "def ztest(n, mean, std_dev, conf):\n",
    "    '''\n",
    "    This test assumes that data is normally distributed and works well for bigger number of samples (>30).\n",
    "    Function takes number of samples (n), mean value (mean),\n",
    "    standard deviation (std_dev) and confidence (conf).\n",
    "    Returns lower and upper bounds for the confidence interval.\n",
    "    '''\n",
    "    z = st.norm.ppf(1-(1-conf)/2)\n",
    "    upper_bound = mean + z*std_dev/math.sqrt(n)\n",
    "    lower_bound = mean - z*std_dev/math.sqrt(n)\n",
    "    \n",
    "    return [lower_bound, upper_bound]\n",
    "\n",
    "print(ztest(100, 50, 5, 0.95))\n",
    "\n",
    "\n",
    "def reverse_ztest(mean, std_dev, diff, conf):\n",
    "    '''\n",
    "    Function takes mean of data (mean), standard deviation of data (std_dev),\n",
    "    difference from mean to lower/upper bound which is upper_bound-mean or mean-lower_bound (diff)\n",
    "    and confidence (conf).\n",
    "    Returns rounded number of samples which should be taken to obtain a given confidence interval.\n",
    "    '''\n",
    "    z = st.norm.ppf(1-(1-conf)/2)\n",
    "    n = (z*std_dev/(diff))**2\n",
    "    return int(round(n))\n",
    "\n",
    "print(reverse_ztest(50, 5, 1.39, 0.95))\n"
   ]
  },
  {
   "cell_type": "markdown",
   "id": "classified-viewer",
   "metadata": {},
   "source": [
    "#### Z-test with precision"
   ]
  },
  {
   "cell_type": "code",
   "execution_count": 60,
   "id": "advance-camping",
   "metadata": {},
   "outputs": [
    {
     "name": "stdout",
     "output_type": "stream",
     "text": [
      "[48.614096175650324, 51.385903824349676]\n",
      "50\n"
     ]
    }
   ],
   "source": [
    "# Z-Test precission\n",
    "\n",
    "def ztest_pr(n, mean, conf):\n",
    "    '''\n",
    "    This test assumes that data is normally distributed and works well for bigger number of samples (>30).\n",
    "    Function takes number of samples (n), mean value (mean) and confidence (conf).\n",
    "    Returns lower and upper bounds for the confidence interval.\n",
    "    '''\n",
    "    z = st.norm.ppf(1-(1-conf)/2)\n",
    "    pr = z*math.sqrt(0.25/n)\n",
    "    upper_bound = mean + 10*pr\n",
    "    lower_bound = mean - 10*pr\n",
    "    \n",
    "    return [lower_bound, upper_bound]\n",
    "\n",
    "print(ztest_pr(50, 50, 0.95))\n",
    "\n",
    "\n",
    "def reverse_ztest_pr(mean, diff, conf):\n",
    "    '''\n",
    "    Function takes mean of data (mean), difference from mean to lower/upper bound which is upper_bound-mean \n",
    "    or mean-lower_bound (diff) and confidence (conf).\n",
    "    Returns rounded number of samples which should be taken to obtain a given confidence interval.\n",
    "    '''\n",
    "    z = st.norm.ppf(1-(1-conf)/2)\n",
    "    n = (z*math.sqrt(0.25)/(diff/10))**2\n",
    "    return int(round(n))\n",
    "\n",
    "print(reverse_ztest_pr(50, 1.39, 0.95))"
   ]
  },
  {
   "cell_type": "markdown",
   "id": "peaceful-killing",
   "metadata": {},
   "source": [
    "#### t-test confidence interval\n",
    "\n",
    "upper/lower bound of a confidence interval:<br>\n",
    "X ± t*(s/√n)<br>\n",
    "X is the mean<br>\n",
    "t is the value from the Student's t-distribution for the selected confidence level<br>\n",
    "s is the standard deviation<br>\n",
    "n is the number of observations<br>\n",
    "\n",
    "The t-test is any statistical hypothesis test in which the test statistic follows a Student's t-distribution under the null hypothesis.\n",
    "A t-test is the most commonly applied when the test statistic would follow a normal distribution if the value of a scaling term in the test statistic were known."
   ]
  },
  {
   "cell_type": "code",
   "execution_count": 61,
   "id": "qualified-aging",
   "metadata": {},
   "outputs": [
    {
     "data": {
      "text/plain": [
       "[47.69399586496663, 52.30600413503337]"
      ]
     },
     "execution_count": 61,
     "metadata": {},
     "output_type": "execute_result"
    }
   ],
   "source": [
    "# T-test\n",
    "\n",
    "def ttest(n, mean, std_dev, conf):\n",
    "    '''\n",
    "    This test works for smaller number of samples (<30), uses t-distribution instead the normal one.\n",
    "    Function takes number of samples (n), mean value (mean), standard deviation and confidence (conf).\n",
    "    Returns lower and upper bounds for the confidence interval.\n",
    "    '''\n",
    "    t = st.t.ppf(1-(1-conf)/2, n-1)\n",
    "    upper_bound = mean + t*std_dev/math.sqrt(n)\n",
    "    lower_bound = mean - t*std_dev/math.sqrt(n)\n",
    "    \n",
    "    return [lower_bound, upper_bound]\n",
    "\n",
    "ttest(9, 50, 3, 0.95)\n",
    "\n",
    "\n",
    "#def reverse_ttest()"
   ]
  },
  {
   "cell_type": "markdown",
   "id": "entitled-complexity",
   "metadata": {},
   "source": [
    "#### Loose test set bound (Langford)"
   ]
  },
  {
   "cell_type": "code",
   "execution_count": 62,
   "id": "reflected-speech",
   "metadata": {},
   "outputs": [
    {
     "name": "stdout",
     "output_type": "stream",
     "text": [
      "[48.07935441736016, 51.92064558263984]\n",
      "50\n"
     ]
    }
   ],
   "source": [
    "# Loose test set bound Langford\n",
    "\n",
    "def loose_langford(n, mean, conf):\n",
    "    '''\n",
    "    Function takes number of samples (n), mean value (mean) and confidence (conf).\n",
    "    Returns lower and upper bounds for the confidence interval.\n",
    "    '''\n",
    "    pr = math.sqrt(math.log(2/(1-conf))/(n*2))\n",
    "    upper_bound = mean + pr*10\n",
    "    lower_bound = mean - pr*10\n",
    "    return [lower_bound, upper_bound]\n",
    "\n",
    "print(loose_langford(50, 50, 0.95))\n",
    "\n",
    "def loose_langford_reverse(mean, diff, conf):\n",
    "    '''\n",
    "    Function takes mean of data (mean), difference from mean to lower/upper bound which is upper_bound-mean \n",
    "    or mean-lower_bound (diff) and confidence (conf).\n",
    "    Returns rounded number of samples which should be taken to obtain a given confidence interval.\n",
    "    '''\n",
    "    n = math.log(2/(1-conf))/(2*(diff/10)**2)\n",
    "    return int(round(n))\n",
    "\n",
    "print(loose_langford_reverse(50, 1.92, 0.95))"
   ]
  },
  {
   "cell_type": "markdown",
   "id": "promotional-boutique",
   "metadata": {},
   "source": [
    "#### Clopper-Pearson (beta distribution)\n",
    "The Clopper–Pearson interval is an early and very common method for calculating binomial confidence intervals. This is often called an 'exact' method, because it is based on the cumulative probabilities of the binomial distribution (i.e., exactly the correct distribution rather than an approximation). However, in cases where we know the population size, the intervals may not be the smallest possible."
   ]
  },
  {
   "cell_type": "code",
   "execution_count": 63,
   "id": "configured-richmond",
   "metadata": {},
   "outputs": [
    {
     "name": "stdout",
     "output_type": "stream",
     "text": [
      "[48.55272997129908, 51.44727002870092]\n"
     ]
    }
   ],
   "source": [
    "# Clopper-Pearson\n",
    "\n",
    "def clopper_pearson(n, mean, conf):\n",
    "    '''\n",
    "    Function takes number of samples (n), mean value (mean) and confidence (conf).\n",
    "    Returns lower and upper bounds for the confidence interval.\n",
    "    '''\n",
    "    low, high = sm.stats.proportion.proportion_confint(n/2, n, alpha=1-conf, method = \"beta\")\n",
    "    return [mean-(0.5-low)*10, mean+(high-0.5)*10]\n",
    "\n",
    "print(clopper_pearson(50, 50, 0.95))"
   ]
  },
  {
   "cell_type": "markdown",
   "id": "british-offset",
   "metadata": {},
   "source": [
    "#### Wilson score interval\n",
    "The Wilson score interval is an improvement over the normal approximation interval in multiple respects. Unlike the symmetric normal approximation interval, the Wilson score interval is asymmetric. It does not suffer from problems of overshoot and zero-width intervals that afflict the normal interval, and it may be safely employed with small samples and skewed observations.<br>\n",
    "The Wilson interval is derived from the Wilson Score Test, which belongs to a class of tests called Rao Score Tests. It relies on the asymptotic normality of your estimator.\n",
    "Wilson intervals get their assymetry from the underlying likelihood function for the binomial, which is used to compute the \"expected standard error\" and \"score\" (i.e., first derivative of the likelihood function) under the null hypotheisis. Since these values will change as you very your null hypothesis, the interval where the normalized score (score/expected standard error) exceeds your pre-specified Z-cutoff for significance will not be symmetric, in general."
   ]
  },
  {
   "cell_type": "code",
   "execution_count": 64,
   "id": "stunning-keeping",
   "metadata": {},
   "outputs": [
    {
     "name": "stdout",
     "output_type": "stream",
     "text": [
      "[48.664451431682856, 51.335548568317144]\n"
     ]
    }
   ],
   "source": [
    "# Wilson score interval\n",
    "\n",
    "def wilson(n, mean, conf):\n",
    "    '''\n",
    "    Function takes number of samples (n), mean value (mean) and confidence (conf).\n",
    "    Returns lower and upper bounds for the confidence interval.\n",
    "    '''\n",
    "    low, high = sm.stats.proportion.proportion_confint(n/2, n, alpha=1-conf, method = \"wilson\")\n",
    "    return [mean-(0.5-low)*10, mean+(high-0.5)*10]\n",
    "\n",
    "print(wilson(50, 50, 0.95))"
   ]
  }
 ],
 "metadata": {
  "kernelspec": {
   "display_name": "Python 3",
   "language": "python",
   "name": "python3"
  },
  "language_info": {
   "codemirror_mode": {
    "name": "ipython",
    "version": 3
   },
   "file_extension": ".py",
   "mimetype": "text/x-python",
   "name": "python",
   "nbconvert_exporter": "python",
   "pygments_lexer": "ipython3",
   "version": "3.7.10"
  }
 },
 "nbformat": 4,
 "nbformat_minor": 5
}
